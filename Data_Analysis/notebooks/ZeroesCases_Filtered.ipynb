{
  "nbformat": 4,
  "nbformat_minor": 0,
  "metadata": {
    "colab": {
      "provenance": [],
      "mount_file_id": "1rs-vtcD8gaKjiHMjrbTw7Lu3Jy-9OsAa",
      "authorship_tag": "ABX9TyN6+g8dugdhtqAzoPX5BJUT",
      "include_colab_link": true
    },
    "kernelspec": {
      "name": "python3",
      "display_name": "Python 3"
    },
    "language_info": {
      "name": "python"
    }
  },
  "cells": [
    {
      "cell_type": "markdown",
      "metadata": {
        "id": "view-in-github",
        "colab_type": "text"
      },
      "source": [
        "<a href=\"https://colab.research.google.com/github/krldlamini/edm_brazildengue/blob/main/Data_Analysis/notebooks/ZeroesCases_Filtered.ipynb\" target=\"_parent\"><img src=\"https://colab.research.google.com/assets/colab-badge.svg\" alt=\"Open In Colab\"/></a>"
      ]
    },
    {
      "cell_type": "markdown",
      "source": [
        "This file counts the number of weeks with no cases reported per municipality"
      ],
      "metadata": {
        "id": "ePwrtBP0eBMY"
      }
    },
    {
      "cell_type": "code",
      "execution_count": null,
      "metadata": {
        "id": "nCnuaJ8B0hOF"
      },
      "outputs": [],
      "source": [
        "import pandas as pd\n",
        "import numpy as np\n",
        "import matplotlib.pyplot as plt"
      ]
    },
    {
      "cell_type": "markdown",
      "source": [
        "Pasting Functions"
      ],
      "metadata": {
        "id": "wfyJSlQe0u__"
      }
    },
    {
      "cell_type": "code",
      "source": [
        "# Processing of cases as whole for any files after initial clean\n",
        "# years 2000 to 2021, compatibilized in order to know the total time series\n",
        "# doesn't include imported or not imported cases actually\n",
        "# Code developed by Denise Cammarota\n",
        "\n",
        "def process_dates(df):\n",
        "    min_year = min(df['SIN_YEAR'])\n",
        "    max_year = max(df['SIN_YEAR'])\n",
        "    if(max_year > 2021):\n",
        "        max_year = 2021\n",
        "    years = np.arange(min_year,max_year+1,1)\n",
        "\n",
        "    # generate weeks for each years and count cases\n",
        "    list_year = []\n",
        "    list_week = []\n",
        "    list_begin = []\n",
        "    list_cases = []\n",
        "    list_imported = []\n",
        "\n",
        "\n",
        "    for year in years:\n",
        "        start_year = str(year)+'-01-01'\n",
        "        end_year = str(year)+'-12-31'\n",
        "        weeks_year = pd.date_range(start=start_year, end = end_year, freq='W-SUN', inclusive = 'left')\n",
        "        n_weeks = len(weeks_year)\n",
        "        for week in range(n_weeks):\n",
        "            list_year.append(year)\n",
        "            list_week.append(week+1)\n",
        "            list_begin.append(weeks_year[week].date().strftime('%Y-%m-%d'))\n",
        "            # and now we count the total number of cases\n",
        "            filt_df = ((df['SIN_WEEK'] == week) & (df['SIN_YEAR'] == year))\n",
        "            df_tmp = df[filt_df]\n",
        "            if df_tmp.empty == False:\n",
        "                list_cases.append(df_tmp.iloc[0]['CASES'])\n",
        "                list_imported.append(df_tmp.iloc[0]['IMPORTED'])\n",
        "            else:\n",
        "                list_cases.append(0)\n",
        "                list_imported.append(0)\n",
        "\n",
        "    df_final = pd.DataFrame(list(zip(list_year, list_week, list_begin, list_cases, list_imported)),\n",
        "                   columns =['SIN_YEAR', 'SIN_WEEK', 'FIRST_DAY', 'CASES','IMPORTED'])\n",
        "\n",
        "    return df_final"
      ],
      "metadata": {
        "id": "eP0CkGqw0zOT"
      },
      "execution_count": null,
      "outputs": []
    },
    {
      "cell_type": "code",
      "source": [
        "# Processing of cases separating imported cases for each municipality\n",
        "# years 2007 onwards actually have the TPAUTOCTO field in order to filter this\n",
        "# Code developed by Denise Cammarota\n",
        "\n",
        "def process_imported(data_filtered_3, data_filtered_1, year):\n",
        "    if(year >= 2007):\n",
        "        df = data_filtered_1.groupby(['SIN_WEEK','SIN_YEAR','TPAUTOCTO'])['TPAUTOCTO'].size()\n",
        "        df = df.to_frame(name = 'CASES').reset_index()\n",
        "        df = df.replace(' ',3)\n",
        "        df['TPAUTOCTO'] = df['TPAUTOCTO'].astype(int)\n",
        "        df['CASES'] = df['CASES'].astype(int)\n",
        "        df['new'] = df['TPAUTOCTO'].isin([2])\n",
        "        df['new'] = df['new'].astype(int)\n",
        "        # counting number of imported cases\n",
        "        df['new_2'] = df['new']*(df['TPAUTOCTO']-1)*df['CASES']\n",
        "        df = df.groupby(['SIN_WEEK','SIN_YEAR'])['new_2'].sum()\n",
        "        df = df.to_frame(name = 'IMPORTED').reset_index()\n",
        "        df['CASES'] = data_filtered_3['CASES']\n",
        "        # permutating the two last columns\n",
        "        columns_titles = ['SIN_WEEK','SIN_YEAR','CASES','IMPORTED']\n",
        "        df = df.reindex(columns=columns_titles)\n",
        "    else:\n",
        "        df = data_filtered_3.copy()\n",
        "        df['IMPORTED'] = 0\n",
        "    return df"
      ],
      "metadata": {
        "id": "4WzIoNn000qd"
      },
      "execution_count": null,
      "outputs": []
    },
    {
      "cell_type": "code",
      "source": [
        "# Processing of cases as whole for any municipio, given the IBGE code\n",
        "# years 2000 to 2021, compatibilized in order to know the total time series\n",
        "# includes imported and sum of all cases\n",
        "# Code developed by Denise Cammarota\n",
        "\n",
        "def process_municipality(id_municip):\n",
        "    # find all files\n",
        "    file_path = 'drive/MyDrive/Dengue_BR/DataBR_Processed/dengue_BR_'\n",
        "    years = np.arange(2007,2022,1)\n",
        "    files = []\n",
        "    # build the files for all years\n",
        "    for year in years:\n",
        "      file_path_tmp = file_path + str(year) + '.csv'\n",
        "      files.append(file_path_tmp)\n",
        "    # creating the dataframe that will contain the results\n",
        "    data_total = pd.DataFrame()\n",
        "    for file in files:\n",
        "        # find year corresponding to file\n",
        "        year = int(file[-8:-4])\n",
        "        # reading data\n",
        "        data_test = pd.read_csv(file,\n",
        "                                delimiter = ';',\n",
        "                                index_col=False,\n",
        "                                parse_dates = ['DT_SIN_PRI','SEM_PRI','DT_NOTIFIC','SEM_NOT'])\n",
        "        # first column is read differently\n",
        "        data_test = data_test.drop(columns = ['Unnamed: 0'])\n",
        "        # filter data from desidered municipality\n",
        "        filt_df1 = (data_test['ID_MUNICIP'] == id_municip)\n",
        "        data_filtered_1 = data_test[filt_df1]\n",
        "        # see if there are available data and sum for week + year\n",
        "        if data_filtered_1.empty == False:\n",
        "            data_filtered_2 = data_filtered_1.groupby(['SIN_WEEK','SIN_YEAR']).size()\n",
        "            data_filtered_3 = data_filtered_2.to_frame(name = 'CASES').reset_index()\n",
        "            data_filtered_4 = data_filtered_3.copy()\n",
        "            data_filtered_4 = process_imported(data_filtered_3, data_filtered_1, year)\n",
        "            # appending to the final results\n",
        "            data_total = data_total.append(data_filtered_4)\n",
        "    # after all years are processed, we put initial week date\n",
        "    data_total = process_dates(data_total)\n",
        "    # return this table\n",
        "    return data_total"
      ],
      "metadata": {
        "id": "--9wqnJc03PH"
      },
      "execution_count": null,
      "outputs": []
    },
    {
      "cell_type": "markdown",
      "source": [
        "Read in Municipalities"
      ],
      "metadata": {
        "id": "y6ZZF_WC08Vs"
      }
    },
    {
      "cell_type": "code",
      "source": [
        "id_municipalities = pd.read_csv('filtered_municipalities.csv')\n",
        "id_municipalities\n",
        "first_10 = id_municipalities['ID_MUNICIP'][:10]"
      ],
      "metadata": {
        "id": "A_X782Yb0_yM"
      },
      "execution_count": null,
      "outputs": []
    },
    {
      "cell_type": "code",
      "source": [
        "num_zeroes = []\n",
        "num_cases = []\n",
        "\n",
        "for value in first_10:\n",
        "    df = process_municipality(value)\n",
        "    df = df[df['SIN_YEAR'] >= 2007]\n",
        "    df = df[df['SIN_YEAR'] <= 2021]\n",
        "    num_zeroes.append(len(df[df['CASES'] == 0]))\n",
        "    num_cases.append(sum(df['CASES']))"
      ],
      "metadata": {
        "id": "fpJa5_JC4eDA"
      },
      "execution_count": null,
      "outputs": []
    },
    {
      "cell_type": "code",
      "source": [
        "batch_10 = pd.DataFrame({'Municipality': first_10,\n",
        "                   'Zeroes': num_zeroes,\n",
        "                   'Cases': num_cases})\n",
        "\n",
        "batch_10_sorted = batch_10.sort_values('Zeroes')\n",
        "pd.DataFrame(batch_10_sorted).to_csv('first_10_municipalities.csv')"
      ],
      "metadata": {
        "id": "-gI-NZEm5n9v"
      },
      "execution_count": null,
      "outputs": []
    },
    {
      "cell_type": "code",
      "source": [
        "batch_10"
      ],
      "metadata": {
        "colab": {
          "base_uri": "https://localhost:8080/",
          "height": 363
        },
        "id": "nI1-OzVLC9IR",
        "outputId": "cfbbae72-b2c9-483f-affc-c2ea28275122"
      },
      "execution_count": null,
      "outputs": [
        {
          "output_type": "execute_result",
          "data": {
            "text/plain": [
              "   Municipality  Zeroes   Cases\n",
              "0        310620      20  482394\n",
              "1        230440      15  239158\n",
              "2        520870      15  220731\n",
              "3        330455      16  213607\n",
              "4        350950      46  176023\n",
              "5        354980      40  165765\n",
              "6        530010      32  162327\n",
              "7        520140      15  147775\n",
              "8        354340      58  146677\n",
              "9        355030      39  140222"
            ],
            "text/html": [
              "\n",
              "  <div id=\"df-c96b8a89-bc51-4228-9cf7-dcf0907a15a0\">\n",
              "    <div class=\"colab-df-container\">\n",
              "      <div>\n",
              "<style scoped>\n",
              "    .dataframe tbody tr th:only-of-type {\n",
              "        vertical-align: middle;\n",
              "    }\n",
              "\n",
              "    .dataframe tbody tr th {\n",
              "        vertical-align: top;\n",
              "    }\n",
              "\n",
              "    .dataframe thead th {\n",
              "        text-align: right;\n",
              "    }\n",
              "</style>\n",
              "<table border=\"1\" class=\"dataframe\">\n",
              "  <thead>\n",
              "    <tr style=\"text-align: right;\">\n",
              "      <th></th>\n",
              "      <th>Municipality</th>\n",
              "      <th>Zeroes</th>\n",
              "      <th>Cases</th>\n",
              "    </tr>\n",
              "  </thead>\n",
              "  <tbody>\n",
              "    <tr>\n",
              "      <th>0</th>\n",
              "      <td>310620</td>\n",
              "      <td>20</td>\n",
              "      <td>482394</td>\n",
              "    </tr>\n",
              "    <tr>\n",
              "      <th>1</th>\n",
              "      <td>230440</td>\n",
              "      <td>15</td>\n",
              "      <td>239158</td>\n",
              "    </tr>\n",
              "    <tr>\n",
              "      <th>2</th>\n",
              "      <td>520870</td>\n",
              "      <td>15</td>\n",
              "      <td>220731</td>\n",
              "    </tr>\n",
              "    <tr>\n",
              "      <th>3</th>\n",
              "      <td>330455</td>\n",
              "      <td>16</td>\n",
              "      <td>213607</td>\n",
              "    </tr>\n",
              "    <tr>\n",
              "      <th>4</th>\n",
              "      <td>350950</td>\n",
              "      <td>46</td>\n",
              "      <td>176023</td>\n",
              "    </tr>\n",
              "    <tr>\n",
              "      <th>5</th>\n",
              "      <td>354980</td>\n",
              "      <td>40</td>\n",
              "      <td>165765</td>\n",
              "    </tr>\n",
              "    <tr>\n",
              "      <th>6</th>\n",
              "      <td>530010</td>\n",
              "      <td>32</td>\n",
              "      <td>162327</td>\n",
              "    </tr>\n",
              "    <tr>\n",
              "      <th>7</th>\n",
              "      <td>520140</td>\n",
              "      <td>15</td>\n",
              "      <td>147775</td>\n",
              "    </tr>\n",
              "    <tr>\n",
              "      <th>8</th>\n",
              "      <td>354340</td>\n",
              "      <td>58</td>\n",
              "      <td>146677</td>\n",
              "    </tr>\n",
              "    <tr>\n",
              "      <th>9</th>\n",
              "      <td>355030</td>\n",
              "      <td>39</td>\n",
              "      <td>140222</td>\n",
              "    </tr>\n",
              "  </tbody>\n",
              "</table>\n",
              "</div>\n",
              "      <button class=\"colab-df-convert\" onclick=\"convertToInteractive('df-c96b8a89-bc51-4228-9cf7-dcf0907a15a0')\"\n",
              "              title=\"Convert this dataframe to an interactive table.\"\n",
              "              style=\"display:none;\">\n",
              "        \n",
              "  <svg xmlns=\"http://www.w3.org/2000/svg\" height=\"24px\"viewBox=\"0 0 24 24\"\n",
              "       width=\"24px\">\n",
              "    <path d=\"M0 0h24v24H0V0z\" fill=\"none\"/>\n",
              "    <path d=\"M18.56 5.44l.94 2.06.94-2.06 2.06-.94-2.06-.94-.94-2.06-.94 2.06-2.06.94zm-11 1L8.5 8.5l.94-2.06 2.06-.94-2.06-.94L8.5 2.5l-.94 2.06-2.06.94zm10 10l.94 2.06.94-2.06 2.06-.94-2.06-.94-.94-2.06-.94 2.06-2.06.94z\"/><path d=\"M17.41 7.96l-1.37-1.37c-.4-.4-.92-.59-1.43-.59-.52 0-1.04.2-1.43.59L10.3 9.45l-7.72 7.72c-.78.78-.78 2.05 0 2.83L4 21.41c.39.39.9.59 1.41.59.51 0 1.02-.2 1.41-.59l7.78-7.78 2.81-2.81c.8-.78.8-2.07 0-2.86zM5.41 20L4 18.59l7.72-7.72 1.47 1.35L5.41 20z\"/>\n",
              "  </svg>\n",
              "      </button>\n",
              "      \n",
              "  <style>\n",
              "    .colab-df-container {\n",
              "      display:flex;\n",
              "      flex-wrap:wrap;\n",
              "      gap: 12px;\n",
              "    }\n",
              "\n",
              "    .colab-df-convert {\n",
              "      background-color: #E8F0FE;\n",
              "      border: none;\n",
              "      border-radius: 50%;\n",
              "      cursor: pointer;\n",
              "      display: none;\n",
              "      fill: #1967D2;\n",
              "      height: 32px;\n",
              "      padding: 0 0 0 0;\n",
              "      width: 32px;\n",
              "    }\n",
              "\n",
              "    .colab-df-convert:hover {\n",
              "      background-color: #E2EBFA;\n",
              "      box-shadow: 0px 1px 2px rgba(60, 64, 67, 0.3), 0px 1px 3px 1px rgba(60, 64, 67, 0.15);\n",
              "      fill: #174EA6;\n",
              "    }\n",
              "\n",
              "    [theme=dark] .colab-df-convert {\n",
              "      background-color: #3B4455;\n",
              "      fill: #D2E3FC;\n",
              "    }\n",
              "\n",
              "    [theme=dark] .colab-df-convert:hover {\n",
              "      background-color: #434B5C;\n",
              "      box-shadow: 0px 1px 3px 1px rgba(0, 0, 0, 0.15);\n",
              "      filter: drop-shadow(0px 1px 2px rgba(0, 0, 0, 0.3));\n",
              "      fill: #FFFFFF;\n",
              "    }\n",
              "  </style>\n",
              "\n",
              "      <script>\n",
              "        const buttonEl =\n",
              "          document.querySelector('#df-c96b8a89-bc51-4228-9cf7-dcf0907a15a0 button.colab-df-convert');\n",
              "        buttonEl.style.display =\n",
              "          google.colab.kernel.accessAllowed ? 'block' : 'none';\n",
              "\n",
              "        async function convertToInteractive(key) {\n",
              "          const element = document.querySelector('#df-c96b8a89-bc51-4228-9cf7-dcf0907a15a0');\n",
              "          const dataTable =\n",
              "            await google.colab.kernel.invokeFunction('convertToInteractive',\n",
              "                                                     [key], {});\n",
              "          if (!dataTable) return;\n",
              "\n",
              "          const docLinkHtml = 'Like what you see? Visit the ' +\n",
              "            '<a target=\"_blank\" href=https://colab.research.google.com/notebooks/data_table.ipynb>data table notebook</a>'\n",
              "            + ' to learn more about interactive tables.';\n",
              "          element.innerHTML = '';\n",
              "          dataTable['output_type'] = 'display_data';\n",
              "          await google.colab.output.renderOutput(dataTable, element);\n",
              "          const docLink = document.createElement('div');\n",
              "          docLink.innerHTML = docLinkHtml;\n",
              "          element.appendChild(docLink);\n",
              "        }\n",
              "      </script>\n",
              "    </div>\n",
              "  </div>\n",
              "  "
            ]
          },
          "metadata": {},
          "execution_count": 19
        }
      ]
    },
    {
      "cell_type": "code",
      "source": [
        "id_municipalities = pd.read_csv('filtered_municipalities.csv')\n",
        "id_municipalities\n",
        "first_30 = id_municipalities['ID_MUNICIP'][:30]"
      ],
      "metadata": {
        "id": "-mFozDlNCyGf"
      },
      "execution_count": null,
      "outputs": []
    },
    {
      "cell_type": "code",
      "source": [
        "num_zeroes = []\n",
        "num_cases = []\n",
        "\n",
        "for value in first_30:\n",
        "    df = process_municipality(value)\n",
        "    df = df[df['SIN_YEAR'] >= 2007]\n",
        "    df = df[df['SIN_YEAR'] <= 2021]\n",
        "    num_zeroes.append(len(df[df['CASES'] == 0]))\n",
        "    num_cases.append(sum(df['CASES']))"
      ],
      "metadata": {
        "id": "QQwJtEwkDFRL"
      },
      "execution_count": null,
      "outputs": []
    },
    {
      "cell_type": "code",
      "source": [
        "batch_30 = pd.DataFrame({'Municipality': first_30,\n",
        "                   'Zeroes': num_zeroes,\n",
        "                   'Cases': num_cases})\n",
        "\n",
        "batch_30_sorted = batch_30.sort_values('Zeroes')\n",
        "pd.DataFrame(batch_30_sorted).to_csv('first_30_municipalities.csv')"
      ],
      "metadata": {
        "id": "VFgbCklUOyKQ"
      },
      "execution_count": null,
      "outputs": []
    }
  ]
}