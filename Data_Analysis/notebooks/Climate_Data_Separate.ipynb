{
  "cells": [
    {
      "cell_type": "markdown",
      "metadata": {
        "id": "view-in-github",
        "colab_type": "text"
      },
      "source": [
        "<a href=\"https://colab.research.google.com/github/krldlamini/edm_brazildengue/blob/main/Data_Analysis/notebooks/Climate_Data_Separate.ipynb\" target=\"_parent\"><img src=\"https://colab.research.google.com/assets/colab-badge.svg\" alt=\"Open In Colab\"/></a>"
      ]
    },
    {
      "cell_type": "markdown",
      "source": [
        "# Code to read in climate data downloaded from INMET"
      ],
      "metadata": {
        "id": "NU43ZSnJ4-db"
      }
    },
    {
      "cell_type": "markdown",
      "source": [
        "This file analyses input climate data to determine the municipalities with the most missing records"
      ],
      "metadata": {
        "id": "I02NNAev6qzc"
      }
    },
    {
      "cell_type": "markdown",
      "source": [
        "Read in packages"
      ],
      "metadata": {
        "id": "qaUhtzFL5Osa"
      }
    },
    {
      "cell_type": "code",
      "execution_count": null,
      "metadata": {
        "id": "itjwSc0sLLgT"
      },
      "outputs": [],
      "source": [
        "import numpy as np\n",
        "import pandas as pd\n",
        "import matplotlib.pyplot as plt"
      ]
    },
    {
      "cell_type": "code",
      "execution_count": null,
      "metadata": {
        "colab": {
          "base_uri": "https://localhost:8080/"
        },
        "id": "tNofmnirCleF",
        "outputId": "85a4df55-f1ad-44b2-c15f-79a48eabdf99"
      },
      "outputs": [
        {
          "name": "stdout",
          "output_type": "stream",
          "text": [
            "Mounted at /content/drive\n"
          ]
        }
      ],
      "source": [
        "from google.colab import drive\n",
        "drive.mount('/content/drive')"
      ]
    },
    {
      "cell_type": "code",
      "execution_count": null,
      "metadata": {
        "id": "tRLOt7NWLSJH"
      },
      "outputs": [],
      "source": [
        "inmet_data = pd.read_csv('drive/MyDrive/Dengue_BR/Input_Documents/01_inmet.csv', sep=\",\",quotechar='\"',\n",
        "                   parse_dates=[\"data\"],na_values=[''])"
      ]
    },
    {
      "cell_type": "code",
      "execution_count": null,
      "metadata": {
        "id": "X7iR9qATPoQk"
      },
      "outputs": [],
      "source": [
        "# columns we will not use in this analysis\n",
        "cols_to_drop = ['pressao_atmosferica_ao_nivel_da_estacao_horaria','pressao_atmosferica_maxna_hora_ant','pressao_atmosferica_min_na_hora_ant','radiacao_global','temperatura_do_ar_bulbo_seco_horaria','temperatura_do_ponto_de_orvalho',\n",
        "               'temperatura_orvalho_max_na_hora_ant','temperatura_orvalho_min_na_hora_ant','umidade_relativa_do_ar_horaria',\n",
        "                'vento_direcao_horaria','vento_rajada_maxima','vento_velocidade_horaria']\n",
        "# dropping columns\n",
        "inmet_data = inmet_data.drop(columns = cols_to_drop)\n",
        "# how to replace the data that interests us\n",
        "dic_replace = {'precipitacao_total_horario':'sum',\n",
        "               'temperatura_maxima_na_hora_ant':'mean',\n",
        "               'temperatura_minima_na_hora_ant':'mean',\n",
        "               'umidade_rel_max_na_hora_ant': 'mean',\n",
        "               'umidade_rel_min_na_hora_ant': 'mean',\n",
        "              }"
      ]
    },
    {
      "cell_type": "code",
      "execution_count": null,
      "metadata": {
        "id": "_4Gzb-FfQmnw"
      },
      "outputs": [],
      "source": [
        "# a general way to extract all climatic data for each week and station of interest\n",
        "# code for stations of interest\n",
        "cod_stations = inmet_data['codigo'].unique()\n",
        "# for each station\n",
        "for i in cod_stations:\n",
        "    data_tmp = inmet_data[inmet_data['codigo'] == i].copy() # filter station\n",
        "    data_tmp.drop(columns = ['codigo']) # dropping codigo from dataframe\n",
        "    # extracting data for each epidemiological week\n",
        "    data_tmp['data'] = pd.to_datetime(data_tmp['data']) - pd.to_timedelta(7, unit='d')\n",
        "    data_tmp = data_tmp.groupby([pd.Grouper(key='data', freq='W')]).aggregate(dic_replace)\n",
        "    # reset index\n",
        "    data_tmp = data_tmp.reset_index()\n",
        "    # now filtering\n",
        "    data_tmp = data_tmp[data_tmp['data'] >= '2007-01-01']\n",
        "    data_tmp = data_tmp[data_tmp['data'] < '2022-01-01']\n",
        "    data_tmp['data'] = pd.to_datetime(data_tmp['data']).dt.date\n",
        "    # save csv\n",
        "    file_path_i = 'drive/MyDrive/Dengue_BR/Output_Documents/Weather_Stations/'+ str(i)+ '_climate.csv'\n",
        "    data_tmp.to_csv(file_path_i, index = False)"
      ]
    },
    {
      "cell_type": "code",
      "execution_count": null,
      "metadata": {
        "id": "DANKdBvpQmlT"
      },
      "outputs": [],
      "source": [
        "one_station = pd.read_csv('drive/MyDrive/Dengue_BR/Output_Documents/Weather_Stations/A702_climate.csv')"
      ]
    },
    {
      "cell_type": "markdown",
      "metadata": {
        "id": "UwrHyI1UWXDl"
      },
      "source": [
        "## Preview of the data"
      ]
    },
    {
      "cell_type": "code",
      "execution_count": null,
      "metadata": {
        "colab": {
          "base_uri": "https://localhost:8080/",
          "height": 423
        },
        "id": "9RiaB2hAUUyw",
        "outputId": "3935f045-4be9-4551-8cb4-1e857251e38e"
      },
      "outputs": [
        {
          "data": {
            "text/html": [
              "\n",
              "  <div id=\"df-ffbde28c-70ab-4268-a485-68d27a9806e6\">\n",
              "    <div class=\"colab-df-container\">\n",
              "      <div>\n",
              "<style scoped>\n",
              "    .dataframe tbody tr th:only-of-type {\n",
              "        vertical-align: middle;\n",
              "    }\n",
              "\n",
              "    .dataframe tbody tr th {\n",
              "        vertical-align: top;\n",
              "    }\n",
              "\n",
              "    .dataframe thead th {\n",
              "        text-align: right;\n",
              "    }\n",
              "</style>\n",
              "<table border=\"1\" class=\"dataframe\">\n",
              "  <thead>\n",
              "    <tr style=\"text-align: right;\">\n",
              "      <th></th>\n",
              "      <th>data</th>\n",
              "      <th>precipitacao_total_horario</th>\n",
              "      <th>temperatura_maxima_na_hora_ant</th>\n",
              "      <th>temperatura_minima_na_hora_ant</th>\n",
              "      <th>umidade_rel_max_na_hora_ant</th>\n",
              "      <th>umidade_rel_min_na_hora_ant</th>\n",
              "    </tr>\n",
              "  </thead>\n",
              "  <tbody>\n",
              "    <tr>\n",
              "      <th>0</th>\n",
              "      <td>2007-01-07</td>\n",
              "      <td>38.4</td>\n",
              "      <td>25.877976</td>\n",
              "      <td>24.748214</td>\n",
              "      <td>84.369048</td>\n",
              "      <td>78.785714</td>\n",
              "    </tr>\n",
              "    <tr>\n",
              "      <th>1</th>\n",
              "      <td>2007-01-14</td>\n",
              "      <td>81.0</td>\n",
              "      <td>25.202976</td>\n",
              "      <td>24.184524</td>\n",
              "      <td>83.946429</td>\n",
              "      <td>78.738095</td>\n",
              "    </tr>\n",
              "    <tr>\n",
              "      <th>2</th>\n",
              "      <td>2007-01-21</td>\n",
              "      <td>104.8</td>\n",
              "      <td>25.194643</td>\n",
              "      <td>23.922024</td>\n",
              "      <td>85.767857</td>\n",
              "      <td>79.702381</td>\n",
              "    </tr>\n",
              "    <tr>\n",
              "      <th>3</th>\n",
              "      <td>2007-01-28</td>\n",
              "      <td>88.0</td>\n",
              "      <td>24.858333</td>\n",
              "      <td>23.639881</td>\n",
              "      <td>87.541667</td>\n",
              "      <td>82.178571</td>\n",
              "    </tr>\n",
              "    <tr>\n",
              "      <th>4</th>\n",
              "      <td>2007-02-04</td>\n",
              "      <td>76.2</td>\n",
              "      <td>25.419048</td>\n",
              "      <td>24.242857</td>\n",
              "      <td>85.613095</td>\n",
              "      <td>80.142857</td>\n",
              "    </tr>\n",
              "    <tr>\n",
              "      <th>...</th>\n",
              "      <td>...</td>\n",
              "      <td>...</td>\n",
              "      <td>...</td>\n",
              "      <td>...</td>\n",
              "      <td>...</td>\n",
              "      <td>...</td>\n",
              "    </tr>\n",
              "    <tr>\n",
              "      <th>777</th>\n",
              "      <td>2021-11-28</td>\n",
              "      <td>76.6</td>\n",
              "      <td>27.795833</td>\n",
              "      <td>27.123214</td>\n",
              "      <td>75.958333</td>\n",
              "      <td>73.613095</td>\n",
              "    </tr>\n",
              "    <tr>\n",
              "      <th>778</th>\n",
              "      <td>2021-12-05</td>\n",
              "      <td>6.2</td>\n",
              "      <td>27.786310</td>\n",
              "      <td>27.075000</td>\n",
              "      <td>65.369048</td>\n",
              "      <td>62.053571</td>\n",
              "    </tr>\n",
              "    <tr>\n",
              "      <th>779</th>\n",
              "      <td>2021-12-12</td>\n",
              "      <td>48.8</td>\n",
              "      <td>27.229167</td>\n",
              "      <td>26.628571</td>\n",
              "      <td>80.720238</td>\n",
              "      <td>79.089286</td>\n",
              "    </tr>\n",
              "    <tr>\n",
              "      <th>780</th>\n",
              "      <td>2021-12-19</td>\n",
              "      <td>14.6</td>\n",
              "      <td>27.776190</td>\n",
              "      <td>26.977381</td>\n",
              "      <td>71.619048</td>\n",
              "      <td>69.148810</td>\n",
              "    </tr>\n",
              "    <tr>\n",
              "      <th>781</th>\n",
              "      <td>2021-12-26</td>\n",
              "      <td>57.0</td>\n",
              "      <td>27.612397</td>\n",
              "      <td>26.767769</td>\n",
              "      <td>71.809917</td>\n",
              "      <td>69.652893</td>\n",
              "    </tr>\n",
              "  </tbody>\n",
              "</table>\n",
              "<p>782 rows × 6 columns</p>\n",
              "</div>\n",
              "      <button class=\"colab-df-convert\" onclick=\"convertToInteractive('df-ffbde28c-70ab-4268-a485-68d27a9806e6')\"\n",
              "              title=\"Convert this dataframe to an interactive table.\"\n",
              "              style=\"display:none;\">\n",
              "        \n",
              "  <svg xmlns=\"http://www.w3.org/2000/svg\" height=\"24px\"viewBox=\"0 0 24 24\"\n",
              "       width=\"24px\">\n",
              "    <path d=\"M0 0h24v24H0V0z\" fill=\"none\"/>\n",
              "    <path d=\"M18.56 5.44l.94 2.06.94-2.06 2.06-.94-2.06-.94-.94-2.06-.94 2.06-2.06.94zm-11 1L8.5 8.5l.94-2.06 2.06-.94-2.06-.94L8.5 2.5l-.94 2.06-2.06.94zm10 10l.94 2.06.94-2.06 2.06-.94-2.06-.94-.94-2.06-.94 2.06-2.06.94z\"/><path d=\"M17.41 7.96l-1.37-1.37c-.4-.4-.92-.59-1.43-.59-.52 0-1.04.2-1.43.59L10.3 9.45l-7.72 7.72c-.78.78-.78 2.05 0 2.83L4 21.41c.39.39.9.59 1.41.59.51 0 1.02-.2 1.41-.59l7.78-7.78 2.81-2.81c.8-.78.8-2.07 0-2.86zM5.41 20L4 18.59l7.72-7.72 1.47 1.35L5.41 20z\"/>\n",
              "  </svg>\n",
              "      </button>\n",
              "      \n",
              "  <style>\n",
              "    .colab-df-container {\n",
              "      display:flex;\n",
              "      flex-wrap:wrap;\n",
              "      gap: 12px;\n",
              "    }\n",
              "\n",
              "    .colab-df-convert {\n",
              "      background-color: #E8F0FE;\n",
              "      border: none;\n",
              "      border-radius: 50%;\n",
              "      cursor: pointer;\n",
              "      display: none;\n",
              "      fill: #1967D2;\n",
              "      height: 32px;\n",
              "      padding: 0 0 0 0;\n",
              "      width: 32px;\n",
              "    }\n",
              "\n",
              "    .colab-df-convert:hover {\n",
              "      background-color: #E2EBFA;\n",
              "      box-shadow: 0px 1px 2px rgba(60, 64, 67, 0.3), 0px 1px 3px 1px rgba(60, 64, 67, 0.15);\n",
              "      fill: #174EA6;\n",
              "    }\n",
              "\n",
              "    [theme=dark] .colab-df-convert {\n",
              "      background-color: #3B4455;\n",
              "      fill: #D2E3FC;\n",
              "    }\n",
              "\n",
              "    [theme=dark] .colab-df-convert:hover {\n",
              "      background-color: #434B5C;\n",
              "      box-shadow: 0px 1px 3px 1px rgba(0, 0, 0, 0.15);\n",
              "      filter: drop-shadow(0px 1px 2px rgba(0, 0, 0, 0.3));\n",
              "      fill: #FFFFFF;\n",
              "    }\n",
              "  </style>\n",
              "\n",
              "      <script>\n",
              "        const buttonEl =\n",
              "          document.querySelector('#df-ffbde28c-70ab-4268-a485-68d27a9806e6 button.colab-df-convert');\n",
              "        buttonEl.style.display =\n",
              "          google.colab.kernel.accessAllowed ? 'block' : 'none';\n",
              "\n",
              "        async function convertToInteractive(key) {\n",
              "          const element = document.querySelector('#df-ffbde28c-70ab-4268-a485-68d27a9806e6');\n",
              "          const dataTable =\n",
              "            await google.colab.kernel.invokeFunction('convertToInteractive',\n",
              "                                                     [key], {});\n",
              "          if (!dataTable) return;\n",
              "\n",
              "          const docLinkHtml = 'Like what you see? Visit the ' +\n",
              "            '<a target=\"_blank\" href=https://colab.research.google.com/notebooks/data_table.ipynb>data table notebook</a>'\n",
              "            + ' to learn more about interactive tables.';\n",
              "          element.innerHTML = '';\n",
              "          dataTable['output_type'] = 'display_data';\n",
              "          await google.colab.output.renderOutput(dataTable, element);\n",
              "          const docLink = document.createElement('div');\n",
              "          docLink.innerHTML = docLinkHtml;\n",
              "          element.appendChild(docLink);\n",
              "        }\n",
              "      </script>\n",
              "    </div>\n",
              "  </div>\n",
              "  "
            ],
            "text/plain": [
              "           data  precipitacao_total_horario  temperatura_maxima_na_hora_ant  \\\n",
              "0    2007-01-07                        38.4                       25.877976   \n",
              "1    2007-01-14                        81.0                       25.202976   \n",
              "2    2007-01-21                       104.8                       25.194643   \n",
              "3    2007-01-28                        88.0                       24.858333   \n",
              "4    2007-02-04                        76.2                       25.419048   \n",
              "..          ...                         ...                             ...   \n",
              "777  2021-11-28                        76.6                       27.795833   \n",
              "778  2021-12-05                         6.2                       27.786310   \n",
              "779  2021-12-12                        48.8                       27.229167   \n",
              "780  2021-12-19                        14.6                       27.776190   \n",
              "781  2021-12-26                        57.0                       27.612397   \n",
              "\n",
              "     temperatura_minima_na_hora_ant  umidade_rel_max_na_hora_ant  \\\n",
              "0                         24.748214                    84.369048   \n",
              "1                         24.184524                    83.946429   \n",
              "2                         23.922024                    85.767857   \n",
              "3                         23.639881                    87.541667   \n",
              "4                         24.242857                    85.613095   \n",
              "..                              ...                          ...   \n",
              "777                       27.123214                    75.958333   \n",
              "778                       27.075000                    65.369048   \n",
              "779                       26.628571                    80.720238   \n",
              "780                       26.977381                    71.619048   \n",
              "781                       26.767769                    71.809917   \n",
              "\n",
              "     umidade_rel_min_na_hora_ant  \n",
              "0                      78.785714  \n",
              "1                      78.738095  \n",
              "2                      79.702381  \n",
              "3                      82.178571  \n",
              "4                      80.142857  \n",
              "..                           ...  \n",
              "777                    73.613095  \n",
              "778                    62.053571  \n",
              "779                    79.089286  \n",
              "780                    69.148810  \n",
              "781                    69.652893  \n",
              "\n",
              "[782 rows x 6 columns]"
            ]
          },
          "execution_count": 7,
          "metadata": {},
          "output_type": "execute_result"
        }
      ],
      "source": [
        "one_station"
      ]
    },
    {
      "cell_type": "markdown",
      "metadata": {
        "id": "EOm4a7HLWakd"
      },
      "source": [
        "# Counts the number of nans"
      ]
    },
    {
      "cell_type": "code",
      "execution_count": null,
      "metadata": {
        "id": "eYOJU01-TIta"
      },
      "outputs": [],
      "source": [
        "df = one_station.describe()"
      ]
    },
    {
      "cell_type": "code",
      "execution_count": null,
      "metadata": {
        "colab": {
          "base_uri": "https://localhost:8080/",
          "height": 300
        },
        "id": "CoY8lXM59bOw",
        "outputId": "dd300713-337f-442b-f237-d9d46760e7ed"
      },
      "outputs": [
        {
          "data": {
            "text/html": [
              "\n",
              "  <div id=\"df-c2c0fbb9-79d5-4c46-aa44-567d1e6d2785\">\n",
              "    <div class=\"colab-df-container\">\n",
              "      <div>\n",
              "<style scoped>\n",
              "    .dataframe tbody tr th:only-of-type {\n",
              "        vertical-align: middle;\n",
              "    }\n",
              "\n",
              "    .dataframe tbody tr th {\n",
              "        vertical-align: top;\n",
              "    }\n",
              "\n",
              "    .dataframe thead th {\n",
              "        text-align: right;\n",
              "    }\n",
              "</style>\n",
              "<table border=\"1\" class=\"dataframe\">\n",
              "  <thead>\n",
              "    <tr style=\"text-align: right;\">\n",
              "      <th></th>\n",
              "      <th>precipitacao_total_horario</th>\n",
              "      <th>temperatura_maxima_na_hora_ant</th>\n",
              "      <th>temperatura_minima_na_hora_ant</th>\n",
              "      <th>umidade_rel_max_na_hora_ant</th>\n",
              "      <th>umidade_rel_min_na_hora_ant</th>\n",
              "    </tr>\n",
              "  </thead>\n",
              "  <tbody>\n",
              "    <tr>\n",
              "      <th>count</th>\n",
              "      <td>782.000000</td>\n",
              "      <td>760.000000</td>\n",
              "      <td>760.000000</td>\n",
              "      <td>760.000000</td>\n",
              "      <td>760.000000</td>\n",
              "    </tr>\n",
              "    <tr>\n",
              "      <th>mean</th>\n",
              "      <td>26.673657</td>\n",
              "      <td>24.646104</td>\n",
              "      <td>23.251031</td>\n",
              "      <td>68.128348</td>\n",
              "      <td>62.380315</td>\n",
              "    </tr>\n",
              "    <tr>\n",
              "      <th>std</th>\n",
              "      <td>33.091738</td>\n",
              "      <td>2.649212</td>\n",
              "      <td>2.573759</td>\n",
              "      <td>12.643506</td>\n",
              "      <td>12.647938</td>\n",
              "    </tr>\n",
              "    <tr>\n",
              "      <th>min</th>\n",
              "      <td>0.000000</td>\n",
              "      <td>13.027381</td>\n",
              "      <td>12.191667</td>\n",
              "      <td>25.190476</td>\n",
              "      <td>22.208333</td>\n",
              "    </tr>\n",
              "    <tr>\n",
              "      <th>25%</th>\n",
              "      <td>0.200000</td>\n",
              "      <td>23.356614</td>\n",
              "      <td>21.902854</td>\n",
              "      <td>60.474702</td>\n",
              "      <td>54.369048</td>\n",
              "    </tr>\n",
              "    <tr>\n",
              "      <th>50%</th>\n",
              "      <td>13.600000</td>\n",
              "      <td>25.061668</td>\n",
              "      <td>23.785417</td>\n",
              "      <td>70.895773</td>\n",
              "      <td>64.776786</td>\n",
              "    </tr>\n",
              "    <tr>\n",
              "      <th>75%</th>\n",
              "      <td>42.200000</td>\n",
              "      <td>26.347024</td>\n",
              "      <td>24.907143</td>\n",
              "      <td>77.690476</td>\n",
              "      <td>71.787202</td>\n",
              "    </tr>\n",
              "    <tr>\n",
              "      <th>max</th>\n",
              "      <td>170.000000</td>\n",
              "      <td>32.835135</td>\n",
              "      <td>31.340541</td>\n",
              "      <td>89.969880</td>\n",
              "      <td>87.017857</td>\n",
              "    </tr>\n",
              "  </tbody>\n",
              "</table>\n",
              "</div>\n",
              "      <button class=\"colab-df-convert\" onclick=\"convertToInteractive('df-c2c0fbb9-79d5-4c46-aa44-567d1e6d2785')\"\n",
              "              title=\"Convert this dataframe to an interactive table.\"\n",
              "              style=\"display:none;\">\n",
              "        \n",
              "  <svg xmlns=\"http://www.w3.org/2000/svg\" height=\"24px\"viewBox=\"0 0 24 24\"\n",
              "       width=\"24px\">\n",
              "    <path d=\"M0 0h24v24H0V0z\" fill=\"none\"/>\n",
              "    <path d=\"M18.56 5.44l.94 2.06.94-2.06 2.06-.94-2.06-.94-.94-2.06-.94 2.06-2.06.94zm-11 1L8.5 8.5l.94-2.06 2.06-.94-2.06-.94L8.5 2.5l-.94 2.06-2.06.94zm10 10l.94 2.06.94-2.06 2.06-.94-2.06-.94-.94-2.06-.94 2.06-2.06.94z\"/><path d=\"M17.41 7.96l-1.37-1.37c-.4-.4-.92-.59-1.43-.59-.52 0-1.04.2-1.43.59L10.3 9.45l-7.72 7.72c-.78.78-.78 2.05 0 2.83L4 21.41c.39.39.9.59 1.41.59.51 0 1.02-.2 1.41-.59l7.78-7.78 2.81-2.81c.8-.78.8-2.07 0-2.86zM5.41 20L4 18.59l7.72-7.72 1.47 1.35L5.41 20z\"/>\n",
              "  </svg>\n",
              "      </button>\n",
              "      \n",
              "  <style>\n",
              "    .colab-df-container {\n",
              "      display:flex;\n",
              "      flex-wrap:wrap;\n",
              "      gap: 12px;\n",
              "    }\n",
              "\n",
              "    .colab-df-convert {\n",
              "      background-color: #E8F0FE;\n",
              "      border: none;\n",
              "      border-radius: 50%;\n",
              "      cursor: pointer;\n",
              "      display: none;\n",
              "      fill: #1967D2;\n",
              "      height: 32px;\n",
              "      padding: 0 0 0 0;\n",
              "      width: 32px;\n",
              "    }\n",
              "\n",
              "    .colab-df-convert:hover {\n",
              "      background-color: #E2EBFA;\n",
              "      box-shadow: 0px 1px 2px rgba(60, 64, 67, 0.3), 0px 1px 3px 1px rgba(60, 64, 67, 0.15);\n",
              "      fill: #174EA6;\n",
              "    }\n",
              "\n",
              "    [theme=dark] .colab-df-convert {\n",
              "      background-color: #3B4455;\n",
              "      fill: #D2E3FC;\n",
              "    }\n",
              "\n",
              "    [theme=dark] .colab-df-convert:hover {\n",
              "      background-color: #434B5C;\n",
              "      box-shadow: 0px 1px 3px 1px rgba(0, 0, 0, 0.15);\n",
              "      filter: drop-shadow(0px 1px 2px rgba(0, 0, 0, 0.3));\n",
              "      fill: #FFFFFF;\n",
              "    }\n",
              "  </style>\n",
              "\n",
              "      <script>\n",
              "        const buttonEl =\n",
              "          document.querySelector('#df-c2c0fbb9-79d5-4c46-aa44-567d1e6d2785 button.colab-df-convert');\n",
              "        buttonEl.style.display =\n",
              "          google.colab.kernel.accessAllowed ? 'block' : 'none';\n",
              "\n",
              "        async function convertToInteractive(key) {\n",
              "          const element = document.querySelector('#df-c2c0fbb9-79d5-4c46-aa44-567d1e6d2785');\n",
              "          const dataTable =\n",
              "            await google.colab.kernel.invokeFunction('convertToInteractive',\n",
              "                                                     [key], {});\n",
              "          if (!dataTable) return;\n",
              "\n",
              "          const docLinkHtml = 'Like what you see? Visit the ' +\n",
              "            '<a target=\"_blank\" href=https://colab.research.google.com/notebooks/data_table.ipynb>data table notebook</a>'\n",
              "            + ' to learn more about interactive tables.';\n",
              "          element.innerHTML = '';\n",
              "          dataTable['output_type'] = 'display_data';\n",
              "          await google.colab.output.renderOutput(dataTable, element);\n",
              "          const docLink = document.createElement('div');\n",
              "          docLink.innerHTML = docLinkHtml;\n",
              "          element.appendChild(docLink);\n",
              "        }\n",
              "      </script>\n",
              "    </div>\n",
              "  </div>\n",
              "  "
            ],
            "text/plain": [
              "       precipitacao_total_horario  temperatura_maxima_na_hora_ant  \\\n",
              "count                  782.000000                      760.000000   \n",
              "mean                    26.673657                       24.646104   \n",
              "std                     33.091738                        2.649212   \n",
              "min                      0.000000                       13.027381   \n",
              "25%                      0.200000                       23.356614   \n",
              "50%                     13.600000                       25.061668   \n",
              "75%                     42.200000                       26.347024   \n",
              "max                    170.000000                       32.835135   \n",
              "\n",
              "       temperatura_minima_na_hora_ant  umidade_rel_max_na_hora_ant  \\\n",
              "count                      760.000000                   760.000000   \n",
              "mean                        23.251031                    68.128348   \n",
              "std                          2.573759                    12.643506   \n",
              "min                         12.191667                    25.190476   \n",
              "25%                         21.902854                    60.474702   \n",
              "50%                         23.785417                    70.895773   \n",
              "75%                         24.907143                    77.690476   \n",
              "max                         31.340541                    89.969880   \n",
              "\n",
              "       umidade_rel_min_na_hora_ant  \n",
              "count                   760.000000  \n",
              "mean                     62.380315  \n",
              "std                      12.647938  \n",
              "min                      22.208333  \n",
              "25%                      54.369048  \n",
              "50%                      64.776786  \n",
              "75%                      71.787202  \n",
              "max                      87.017857  "
            ]
          },
          "execution_count": 9,
          "metadata": {},
          "output_type": "execute_result"
        }
      ],
      "source": [
        "df"
      ]
    },
    {
      "cell_type": "code",
      "execution_count": null,
      "metadata": {
        "colab": {
          "base_uri": "https://localhost:8080/"
        },
        "id": "7p0DX25pYrSU",
        "outputId": "72027bd4-a50a-4703-97f9-e023e03ad1e5"
      },
      "outputs": [
        {
          "data": {
            "text/plain": [
              "760.0"
            ]
          },
          "execution_count": 10,
          "metadata": {},
          "output_type": "execute_result"
        }
      ],
      "source": [
        "df['temperatura_maxima_na_hora_ant']['count']"
      ]
    },
    {
      "cell_type": "markdown",
      "metadata": {
        "id": "DHbg96jiIBWD"
      },
      "source": [
        "Counting Number of Zeroes for Rainfall Records"
      ]
    },
    {
      "cell_type": "code",
      "execution_count": null,
      "metadata": {
        "id": "2kziiRKOCcxA"
      },
      "outputs": [],
      "source": [
        "zero_counts = (one_station['precipitacao_total_horario'] == 0).sum()"
      ]
    },
    {
      "cell_type": "code",
      "execution_count": null,
      "metadata": {
        "colab": {
          "base_uri": "https://localhost:8080/"
        },
        "id": "0tR3D90nGtMk",
        "outputId": "89eb0a6c-2675-4cf2-be05-b98462d5da53"
      },
      "outputs": [
        {
          "data": {
            "text/plain": [
              "185"
            ]
          },
          "execution_count": 12,
          "metadata": {},
          "output_type": "execute_result"
        }
      ],
      "source": [
        "zero_counts"
      ]
    },
    {
      "cell_type": "code",
      "execution_count": null,
      "metadata": {
        "colab": {
          "base_uri": "https://localhost:8080/",
          "height": 447
        },
        "id": "vyKVuL5MQmiD",
        "outputId": "ec4533b6-a4f3-42bb-8d24-773d6a51c514"
      },
      "outputs": [
        {
          "data": {
            "text/plain": [
              "[<matplotlib.lines.Line2D at 0x7f7e2a7d3e20>]"
            ]
          },
          "execution_count": 13,
          "metadata": {},
          "output_type": "execute_result"
        },
        {
          "data": {
            "image/png": "[encoded data removed]",
            "text/plain": [
              "<Figure size 640x480 with 1 Axes>"
            ]
          },
          "metadata": {},
          "output_type": "display_data"
        }
      ],
      "source": [
        "plt.plot(one_station['data'],one_station['temperatura_maxima_na_hora_ant'])"
      ]
    },
    {
      "cell_type": "markdown",
      "metadata": {
        "id": "2trF4JwkWtMl"
      },
      "source": [
        "## Starting date"
      ]
    },
    {
      "cell_type": "code",
      "execution_count": null,
      "metadata": {
        "colab": {
          "base_uri": "https://localhost:8080/",
          "height": 35
        },
        "id": "eIRekmEuQmRz",
        "outputId": "70be897b-cb33-4700-b36c-bcf9754fdb99"
      },
      "outputs": [
        {
          "data": {
            "application/vnd.google.colaboratory.intrinsic+json": {
              "type": "string"
            },
            "text/plain": [
              "'2007-01-07'"
            ]
          },
          "execution_count": 14,
          "metadata": {},
          "output_type": "execute_result"
        }
      ],
      "source": [
        "min(one_station['data'])"
      ]
    },
    {
      "cell_type": "markdown",
      "metadata": {
        "id": "IZnt6uQ_WvHV"
      },
      "source": [
        "## End date"
      ]
    },
    {
      "cell_type": "code",
      "execution_count": null,
      "metadata": {
        "colab": {
          "base_uri": "https://localhost:8080/",
          "height": 35
        },
        "id": "NmpQkBGfWwr8",
        "outputId": "268efd89-a87a-4cdc-8d02-ce87d44e9211"
      },
      "outputs": [
        {
          "data": {
            "application/vnd.google.colaboratory.intrinsic+json": {
              "type": "string"
            },
            "text/plain": [
              "'2021-12-26'"
            ]
          },
          "execution_count": 15,
          "metadata": {},
          "output_type": "execute_result"
        }
      ],
      "source": [
        "max(one_station['data'])"
      ]
    },
    {
      "cell_type": "code",
      "execution_count": null,
      "metadata": {
        "id": "tpZ4OdmoBv8T"
      },
      "outputs": [],
      "source": [
        "test = len(one_station)"
      ]
    },
    {
      "cell_type": "code",
      "execution_count": null,
      "metadata": {
        "colab": {
          "base_uri": "https://localhost:8080/"
        },
        "id": "n0WKw25ZCBUJ",
        "outputId": "d7507626-e083-4b7e-a75b-00f241ffc6d2"
      },
      "outputs": [
        {
          "data": {
            "text/plain": [
              "782"
            ]
          },
          "execution_count": 17,
          "metadata": {},
          "output_type": "execute_result"
        }
      ],
      "source": [
        "test"
      ]
    },
    {
      "cell_type": "markdown",
      "metadata": {
        "id": "e9gmy5S9W_A9"
      },
      "source": [
        "## Loop through files"
      ]
    },
    {
      "cell_type": "code",
      "execution_count": null,
      "metadata": {
        "id": "Nik2zNgoXAnW"
      },
      "outputs": [],
      "source": [
        "ids_climate = [\"A001\",\"A002\", \"A009\", \"A101\", \"A104\", \"A301\",\n",
        "                 \"A303\", \"A312\",\"A320\", \"A507\", \"A521\",\n",
        "                 \"A636\", \"A652\",\"A701\", \"A702\", \"A901\"]"
      ]
    },
    {
      "cell_type": "code",
      "execution_count": null,
      "metadata": {
        "colab": {
          "base_uri": "https://localhost:8080/"
        },
        "id": "gpOGar0fzWPW",
        "outputId": "ac22358c-3645-4205-d6ff-9b7d15bb8475"
      },
      "outputs": [
        {
          "data": {
            "text/plain": [
              "16"
            ]
          },
          "execution_count": 19,
          "metadata": {},
          "output_type": "execute_result"
        }
      ],
      "source": [
        "len(ids_climate)"
      ]
    },
    {
      "cell_type": "markdown",
      "metadata": {
        "id": "_LH0rqBKEF1d"
      },
      "source": [
        "# Function to extract important start and end dates, no. of records, and no. of NaNs given a certain station ID"
      ]
    },
    {
      "cell_type": "code",
      "execution_count": null,
      "metadata": {
        "id": "Mr3q7a1gXAtu"
      },
      "outputs": [],
      "source": [
        "def process_climate_stations(id_climate):\n",
        "  file_station = id_climate+'_climate.csv'\n",
        "  df_station = pd.read_csv('drive/MyDrive/Dengue_BR/Output_Documents/Weather_Stations/' + file_station) #open csv file for given station id\n",
        "  # Get start and end dates\n",
        "  start_date = min(df_station['data'])\n",
        "  end_date = max(df_station['data'])\n",
        "\n",
        "  # Get the number of records for each of the metrics\n",
        "  df_summary = df_station.describe()\n",
        "  # Rainfall\n",
        "  precip_records = df_summary['precipitacao_total_horario']['count']\n",
        "  zero_counts = (df_station['precipitacao_total_horario'] == 0).sum() # number of zeroes of Rainfall\n",
        "  # Maximum temperature\n",
        "  max_temp_records = df_summary['temperatura_maxima_na_hora_ant']['count']\n",
        "  max_temp_nans = len(df_station) - max_temp_records\n",
        "  # Minimum temperature\n",
        "  min_temp_records = df_summary['temperatura_minima_na_hora_ant']['count']\n",
        "  min_temp_nans = len(df_station) - min_temp_records\n",
        "  # Maximum humidity\n",
        "  max_humid_records = df_summary['umidade_rel_max_na_hora_ant']['count']\n",
        "  max_humid_nans = len(df_station) - max_humid_records\n",
        "  # Minimum humidity\n",
        "  min_humid_records = df_summary['umidade_rel_min_na_hora_ant']['count']\n",
        "  min_humid_nans = len(df_station) - min_humid_records\n",
        "\n",
        "  station_nans = [id_climate, start_date, end_date, zero_counts, max_temp_nans, min_temp_nans, max_humid_nans, min_humid_nans]\n",
        "\n",
        "  return station_nans"
      ]
    },
    {
      "cell_type": "code",
      "execution_count": null,
      "metadata": {
        "colab": {
          "base_uri": "https://localhost:8080/"
        },
        "id": "QcJ5ff6bITYJ",
        "outputId": "1293b539-86ad-4969-eda4-4eda7b5ec21c"
      },
      "outputs": [
        {
          "data": {
            "text/plain": [
              "['A001', '2007-01-07', '2021-12-26', 283, 0.0, 0.0, 0.0, 0.0]"
            ]
          },
          "execution_count": 21,
          "metadata": {},
          "output_type": "execute_result"
        }
      ],
      "source": [
        "process_climate_stations('A001')"
      ]
    },
    {
      "cell_type": "code",
      "execution_count": null,
      "metadata": {
        "id": "841meDzKVKK_"
      },
      "outputs": [],
      "source": [
        "# Create empty dataframe with labels\n",
        "pd_nans = pd.DataFrame([{'station_id':'',\n",
        "                                'start_date':'',\n",
        "                                'end_date':'',\n",
        "                                'precipitation_zeroes': '',\n",
        "                                'max_temp_nans': '',\n",
        "                                'min_temp_nans': '',\n",
        "                                'max_humid_nans': '',\n",
        "                                'min_humid_nans': '',}])\n",
        "counter = 0\n",
        "for id in ids_climate:\n",
        "    pd_nans.loc[counter] = process_climate_stations(id)\n",
        "    counter = counter + 1"
      ]
    },
    {
      "cell_type": "code",
      "execution_count": null,
      "metadata": {
        "colab": {
          "background_save": true
        },
        "id": "N8M4EJedX8yF"
      },
      "outputs": [],
      "source": [
        "#### dataframe\n",
        "# id station    # start date    # end date   # numbers of Nans for max temp/min temp/humidity max/humidity min/precipation\n",
        "#A701             2007-01-16      xxxxxxxx        2\n",
        "pd_nans = pd_nans.reset_index(drop=True)"
      ]
    },
    {
      "cell_type": "code",
      "execution_count": null,
      "metadata": {
        "id": "xjHwkh9hxPDE"
      },
      "outputs": [],
      "source": [
        "pd_nans"
      ]
    },
    {
      "cell_type": "markdown",
      "metadata": {
        "id": "HGuNw46vur5e"
      },
      "source": [
        "# Sort by Start Date"
      ]
    },
    {
      "cell_type": "code",
      "execution_count": null,
      "metadata": {
        "id": "KdcixrYguq-U"
      },
      "outputs": [],
      "source": [
        "start_date_sort = pd_nans.sort_values('start_date').reset_index(drop=True)\n",
        "start_date_sort"
      ]
    },
    {
      "cell_type": "markdown",
      "metadata": {
        "id": "ii6x5IsFBPjR"
      },
      "source": [
        "# Sort by Precipitation"
      ]
    },
    {
      "cell_type": "code",
      "execution_count": null,
      "metadata": {
        "id": "C8Me8KYPBO4K"
      },
      "outputs": [],
      "source": [
        "precip_sort = pd_nans.sort_values('precipitation_zeroes').reset_index(drop=True)\n",
        "precip_sort"
      ]
    },
    {
      "cell_type": "markdown",
      "metadata": {
        "id": "C_S6S78gDBvx"
      },
      "source": [
        "# Sort by Temperature"
      ]
    },
    {
      "cell_type": "code",
      "execution_count": null,
      "metadata": {
        "id": "9chEXSKjBYWA"
      },
      "outputs": [],
      "source": [
        "max_temp_sort = pd_nans.sort_values('max_temp_nans').reset_index(drop=True)\n",
        "max_temp_sort"
      ]
    },
    {
      "cell_type": "markdown",
      "metadata": {
        "id": "lp8blXL-DHdJ"
      },
      "source": [
        "# Sort by Humidity"
      ]
    },
    {
      "cell_type": "code",
      "execution_count": null,
      "metadata": {
        "id": "2iz2q4cVDK45"
      },
      "outputs": [],
      "source": [
        "max_humid_sort = pd_nans.sort_values('max_humid_nans').reset_index(drop=True)\n",
        "max_humid_sort"
      ]
    },
    {
      "cell_type": "code",
      "execution_count": null,
      "metadata": {
        "id": "2YRZgmve7LQq"
      },
      "outputs": [],
      "source": [
        "remove_ids = ['A104', 'A303', 'A320', 'A101', 'A636']\n",
        "final_stations = pd_nans.drop(pd_nans[pd_nans['station_id'].isin(remove_ids)].index)\n",
        "final_stations = final_stations.reset_index(drop=True)"
      ]
    },
    {
      "cell_type": "code",
      "execution_count": null,
      "metadata": {
        "id": "bP8a_Q0X7NB9"
      },
      "outputs": [],
      "source": [
        "final_stations"
      ]
    }
  ],
  "metadata": {
    "colab": {
      "provenance": [],
      "include_colab_link": true
    },
    "kernelspec": {
      "display_name": "Python 3",
      "name": "python3"
    },
    "language_info": {
      "name": "python"
    }
  },
  "nbformat": 4,
  "nbformat_minor": 0
}