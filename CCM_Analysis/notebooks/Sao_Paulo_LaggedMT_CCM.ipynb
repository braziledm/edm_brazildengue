{
  "cells": [
    {
      "cell_type": "markdown",
      "metadata": {
        "id": "view-in-github",
        "colab_type": "text"
      },
      "source": [
        "<a href=\"https://colab.research.google.com/github/krldlamini/edm_brazildengue/blob/main/CCM_Analysis/notebooks/Sao_Paulo_LaggedMT_CCM.ipynb\" target=\"_parent\"><img src=\"https://colab.research.google.com/assets/colab-badge.svg\" alt=\"Open In Colab\"/></a>"
      ]
    },
    {
      "cell_type": "markdown",
      "metadata": {
        "id": "evDBzSec9D2D"
      },
      "source": [
        "# Installing pyEDM"
      ]
    },
    {
      "cell_type": "code",
      "execution_count": null,
      "metadata": {
        "colab": {
          "base_uri": "https://localhost:8080/"
        },
        "id": "Shl9LDrO8luP",
        "outputId": "34950f2c-711b-4baf-e909-0b449adb39d3"
      },
      "outputs": [
        {
          "output_type": "stream",
          "name": "stdout",
          "text": [
            "Requirement already satisfied: pyEDM in /usr/local/lib/python3.10/dist-packages (1.14.3.0)\n",
            "Requirement already satisfied: pybind11>=2.3 in /usr/local/lib/python3.10/dist-packages (from pyEDM) (2.11.1)\n",
            "Requirement already satisfied: pandas>=1.1 in /usr/local/lib/python3.10/dist-packages (from pyEDM) (1.5.3)\n",
            "Requirement already satisfied: matplotlib>=3.1 in /usr/local/lib/python3.10/dist-packages (from pyEDM) (3.7.1)\n",
            "Requirement already satisfied: scipy>=1.5 in /usr/local/lib/python3.10/dist-packages (from pyEDM) (1.10.1)\n",
            "Requirement already satisfied: contourpy>=1.0.1 in /usr/local/lib/python3.10/dist-packages (from matplotlib>=3.1->pyEDM) (1.1.0)\n",
            "Requirement already satisfied: cycler>=0.10 in /usr/local/lib/python3.10/dist-packages (from matplotlib>=3.1->pyEDM) (0.11.0)\n",
            "Requirement already satisfied: fonttools>=4.22.0 in /usr/local/lib/python3.10/dist-packages (from matplotlib>=3.1->pyEDM) (4.41.1)\n",
            "Requirement already satisfied: kiwisolver>=1.0.1 in /usr/local/lib/python3.10/dist-packages (from matplotlib>=3.1->pyEDM) (1.4.4)\n",
            "Requirement already satisfied: numpy>=1.20 in /usr/local/lib/python3.10/dist-packages (from matplotlib>=3.1->pyEDM) (1.22.4)\n",
            "Requirement already satisfied: packaging>=20.0 in /usr/local/lib/python3.10/dist-packages (from matplotlib>=3.1->pyEDM) (23.1)\n",
            "Requirement already satisfied: pillow>=6.2.0 in /usr/local/lib/python3.10/dist-packages (from matplotlib>=3.1->pyEDM) (9.4.0)\n",
            "Requirement already satisfied: pyparsing>=2.3.1 in /usr/local/lib/python3.10/dist-packages (from matplotlib>=3.1->pyEDM) (3.1.0)\n",
            "Requirement already satisfied: python-dateutil>=2.7 in /usr/local/lib/python3.10/dist-packages (from matplotlib>=3.1->pyEDM) (2.8.2)\n",
            "Requirement already satisfied: pytz>=2020.1 in /usr/local/lib/python3.10/dist-packages (from pandas>=1.1->pyEDM) (2022.7.1)\n",
            "Requirement already satisfied: six>=1.5 in /usr/local/lib/python3.10/dist-packages (from python-dateutil>=2.7->matplotlib>=3.1->pyEDM) (1.16.0)\n"
          ]
        }
      ],
      "source": [
        "!pip install pyEDM"
      ]
    },
    {
      "cell_type": "markdown",
      "metadata": {
        "id": "C9aO-qrM9Lcu"
      },
      "source": [
        "# Importing packages"
      ]
    },
    {
      "cell_type": "code",
      "execution_count": null,
      "metadata": {
        "id": "_qPIAv8K9Shh"
      },
      "outputs": [],
      "source": [
        "from pyEDM import *\n",
        "import matplotlib.pyplot as plt\n",
        "import numpy as np\n",
        "import pandas as pd\n",
        "from scipy.integrate import odeint"
      ]
    },
    {
      "cell_type": "markdown",
      "metadata": {
        "id": "4XbROxl1-FWG"
      },
      "source": [
        "# Uploading the data for analysis"
      ]
    },
    {
      "cell_type": "code",
      "execution_count": null,
      "metadata": {
        "colab": {
          "base_uri": "https://localhost:8080/"
        },
        "id": "dTFNrYEhIDsJ",
        "outputId": "85a7ddad-1d9d-49dc-d04f-2a03296f01b8"
      },
      "outputs": [
        {
          "output_type": "stream",
          "name": "stdout",
          "text": [
            "Drive already mounted at /content/drive; to attempt to forcibly remount, call drive.mount(\"/content/drive\", force_remount=True).\n"
          ]
        }
      ],
      "source": [
        "from google.colab import drive\n",
        "drive.mount('/content/drive')"
      ]
    },
    {
      "cell_type": "code",
      "execution_count": null,
      "metadata": {
        "id": "BLiZOrDEuoc6"
      },
      "outputs": [],
      "source": [
        "file_path = 'drive/MyDrive/Dengue_BR/Output_Documents/Combined_Files/355030_A701_combined.csv'\n",
        "data = pd.read_csv(file_path, delimiter = ',')"
      ]
    },
    {
      "cell_type": "markdown",
      "metadata": {
        "id": "OfML5p8g-esM"
      },
      "source": [
        "Dropping dates"
      ]
    },
    {
      "cell_type": "code",
      "execution_count": null,
      "metadata": {
        "id": "u6qfbkt1-fe9"
      },
      "outputs": [],
      "source": [
        "data = data.drop(columns = ['data'])"
      ]
    },
    {
      "cell_type": "markdown",
      "metadata": {
        "id": "G3j3eUHD-mcP"
      },
      "source": [
        "# Dropping NaNs in the DataFrame"
      ]
    },
    {
      "cell_type": "code",
      "execution_count": null,
      "metadata": {
        "id": "MsEpi-R_-tff"
      },
      "outputs": [],
      "source": [
        "data = data.dropna()"
      ]
    },
    {
      "cell_type": "code",
      "execution_count": null,
      "metadata": {
        "colab": {
          "base_uri": "https://localhost:8080/"
        },
        "id": "6St0LIax-w3E",
        "outputId": "cc2c671f-f33e-4b77-a93d-ecfb1ea1d6ba"
      },
      "outputs": [
        {
          "output_type": "execute_result",
          "data": {
            "text/plain": [
              "780"
            ]
          },
          "metadata": {},
          "execution_count": 7
        }
      ],
      "source": [
        "len(data)"
      ]
    },
    {
      "cell_type": "markdown",
      "metadata": {
        "id": "mpd1l96W-0hl"
      },
      "source": [
        "# Finding the right embedding dimension"
      ]
    },
    {
      "cell_type": "code",
      "execution_count": null,
      "metadata": {
        "colab": {
          "base_uri": "https://localhost:8080/",
          "height": 493
        },
        "id": "gQB9Ergh-1xc",
        "outputId": "e05d9eec-57dc-44f5-f7d7-203b104517e8"
      },
      "outputs": [
        {
          "output_type": "display_data",
          "data": {
            "text/plain": [
              "<Figure size 640x480 with 1 Axes>"
            ],
            "image/png": "[encoded data removed]"
          },
          "metadata": {}
        }
      ],
      "source": [
        "rho_E = EmbedDimension(dataFrame = data, columns = 'cases',\n",
        "                        target = 'cases', lib = '1 780',\n",
        "                        pred = '1 780', showPlot = True)"
      ]
    },
    {
      "cell_type": "code",
      "execution_count": null,
      "metadata": {
        "colab": {
          "base_uri": "https://localhost:8080/",
          "height": 363
        },
        "id": "I1fBz2MHABac",
        "outputId": "55e28b21-a854-4b0f-9fd8-b0187904437e"
      },
      "outputs": [
        {
          "output_type": "execute_result",
          "data": {
            "text/plain": [
              "      E       rho\n",
              "0   1.0  0.878601\n",
              "1   2.0  0.900019\n",
              "2   3.0  0.922919\n",
              "3   4.0  0.935328\n",
              "4   5.0  0.930683\n",
              "5   6.0  0.932407\n",
              "6   7.0  0.924097\n",
              "7   8.0  0.919306\n",
              "8   9.0  0.919910\n",
              "9  10.0  0.924251"
            ],
            "text/html": [
              "\n",
              "\n",
              "  <div id=\"df-b1f58409-6751-4184-88e1-940d02261edd\">\n",
              "    <div class=\"colab-df-container\">\n",
              "      <div>\n",
              "<style scoped>\n",
              "    .dataframe tbody tr th:only-of-type {\n",
              "        vertical-align: middle;\n",
              "    }\n",
              "\n",
              "    .dataframe tbody tr th {\n",
              "        vertical-align: top;\n",
              "    }\n",
              "\n",
              "    .dataframe thead th {\n",
              "        text-align: right;\n",
              "    }\n",
              "</style>\n",
              "<table border=\"1\" class=\"dataframe\">\n",
              "  <thead>\n",
              "    <tr style=\"text-align: right;\">\n",
              "      <th></th>\n",
              "      <th>E</th>\n",
              "      <th>rho</th>\n",
              "    </tr>\n",
              "  </thead>\n",
              "  <tbody>\n",
              "    <tr>\n",
              "      <th>0</th>\n",
              "      <td>1.0</td>\n",
              "      <td>0.878601</td>\n",
              "    </tr>\n",
              "    <tr>\n",
              "      <th>1</th>\n",
              "      <td>2.0</td>\n",
              "      <td>0.900019</td>\n",
              "    </tr>\n",
              "    <tr>\n",
              "      <th>2</th>\n",
              "      <td>3.0</td>\n",
              "      <td>0.922919</td>\n",
              "    </tr>\n",
              "    <tr>\n",
              "      <th>3</th>\n",
              "      <td>4.0</td>\n",
              "      <td>0.935328</td>\n",
              "    </tr>\n",
              "    <tr>\n",
              "      <th>4</th>\n",
              "      <td>5.0</td>\n",
              "      <td>0.930683</td>\n",
              "    </tr>\n",
              "    <tr>\n",
              "      <th>5</th>\n",
              "      <td>6.0</td>\n",
              "      <td>0.932407</td>\n",
              "    </tr>\n",
              "    <tr>\n",
              "      <th>6</th>\n",
              "      <td>7.0</td>\n",
              "      <td>0.924097</td>\n",
              "    </tr>\n",
              "    <tr>\n",
              "      <th>7</th>\n",
              "      <td>8.0</td>\n",
              "      <td>0.919306</td>\n",
              "    </tr>\n",
              "    <tr>\n",
              "      <th>8</th>\n",
              "      <td>9.0</td>\n",
              "      <td>0.919910</td>\n",
              "    </tr>\n",
              "    <tr>\n",
              "      <th>9</th>\n",
              "      <td>10.0</td>\n",
              "      <td>0.924251</td>\n",
              "    </tr>\n",
              "  </tbody>\n",
              "</table>\n",
              "</div>\n",
              "      <button class=\"colab-df-convert\" onclick=\"convertToInteractive('df-b1f58409-6751-4184-88e1-940d02261edd')\"\n",
              "              title=\"Convert this dataframe to an interactive table.\"\n",
              "              style=\"display:none;\">\n",
              "\n",
              "  <svg xmlns=\"http://www.w3.org/2000/svg\" height=\"24px\"viewBox=\"0 0 24 24\"\n",
              "       width=\"24px\">\n",
              "    <path d=\"M0 0h24v24H0V0z\" fill=\"none\"/>\n",
              "    <path d=\"M18.56 5.44l.94 2.06.94-2.06 2.06-.94-2.06-.94-.94-2.06-.94 2.06-2.06.94zm-11 1L8.5 8.5l.94-2.06 2.06-.94-2.06-.94L8.5 2.5l-.94 2.06-2.06.94zm10 10l.94 2.06.94-2.06 2.06-.94-2.06-.94-.94-2.06-.94 2.06-2.06.94z\"/><path d=\"M17.41 7.96l-1.37-1.37c-.4-.4-.92-.59-1.43-.59-.52 0-1.04.2-1.43.59L10.3 9.45l-7.72 7.72c-.78.78-.78 2.05 0 2.83L4 21.41c.39.39.9.59 1.41.59.51 0 1.02-.2 1.41-.59l7.78-7.78 2.81-2.81c.8-.78.8-2.07 0-2.86zM5.41 20L4 18.59l7.72-7.72 1.47 1.35L5.41 20z\"/>\n",
              "  </svg>\n",
              "      </button>\n",
              "\n",
              "\n",
              "\n",
              "    <div id=\"df-21daf467-34e9-49f8-925a-dbd89b43b0bf\">\n",
              "      <button class=\"colab-df-quickchart\" onclick=\"quickchart('df-21daf467-34e9-49f8-925a-dbd89b43b0bf')\"\n",
              "              title=\"Suggest charts.\"\n",
              "              style=\"display:none;\">\n",
              "\n",
              "<svg xmlns=\"http://www.w3.org/2000/svg\" height=\"24px\"viewBox=\"0 0 24 24\"\n",
              "     width=\"24px\">\n",
              "    <g>\n",
              "        <path d=\"M19 3H5c-1.1 0-2 .9-2 2v14c0 1.1.9 2 2 2h14c1.1 0 2-.9 2-2V5c0-1.1-.9-2-2-2zM9 17H7v-7h2v7zm4 0h-2V7h2v10zm4 0h-2v-4h2v4z\"/>\n",
              "    </g>\n",
              "</svg>\n",
              "      </button>\n",
              "    </div>\n",
              "\n",
              "<style>\n",
              "  .colab-df-quickchart {\n",
              "    background-color: #E8F0FE;\n",
              "    border: none;\n",
              "    border-radius: 50%;\n",
              "    cursor: pointer;\n",
              "    display: none;\n",
              "    fill: #1967D2;\n",
              "    height: 32px;\n",
              "    padding: 0 0 0 0;\n",
              "    width: 32px;\n",
              "  }\n",
              "\n",
              "  .colab-df-quickchart:hover {\n",
              "    background-color: #E2EBFA;\n",
              "    box-shadow: 0px 1px 2px rgba(60, 64, 67, 0.3), 0px 1px 3px 1px rgba(60, 64, 67, 0.15);\n",
              "    fill: #174EA6;\n",
              "  }\n",
              "\n",
              "  [theme=dark] .colab-df-quickchart {\n",
              "    background-color: #3B4455;\n",
              "    fill: #D2E3FC;\n",
              "  }\n",
              "\n",
              "  [theme=dark] .colab-df-quickchart:hover {\n",
              "    background-color: #434B5C;\n",
              "    box-shadow: 0px 1px 3px 1px rgba(0, 0, 0, 0.15);\n",
              "    filter: drop-shadow(0px 1px 2px rgba(0, 0, 0, 0.3));\n",
              "    fill: #FFFFFF;\n",
              "  }\n",
              "</style>\n",
              "\n",
              "    <script>\n",
              "      async function quickchart(key) {\n",
              "        const containerElement = document.querySelector('#' + key);\n",
              "        const charts = await google.colab.kernel.invokeFunction(\n",
              "            'suggestCharts', [key], {});\n",
              "      }\n",
              "    </script>\n",
              "\n",
              "      <script>\n",
              "\n",
              "function displayQuickchartButton(domScope) {\n",
              "  let quickchartButtonEl =\n",
              "    domScope.querySelector('#df-21daf467-34e9-49f8-925a-dbd89b43b0bf button.colab-df-quickchart');\n",
              "  quickchartButtonEl.style.display =\n",
              "    google.colab.kernel.accessAllowed ? 'block' : 'none';\n",
              "}\n",
              "\n",
              "        displayQuickchartButton(document);\n",
              "      </script>\n",
              "      <style>\n",
              "    .colab-df-container {\n",
              "      display:flex;\n",
              "      flex-wrap:wrap;\n",
              "      gap: 12px;\n",
              "    }\n",
              "\n",
              "    .colab-df-convert {\n",
              "      background-color: #E8F0FE;\n",
              "      border: none;\n",
              "      border-radius: 50%;\n",
              "      cursor: pointer;\n",
              "      display: none;\n",
              "      fill: #1967D2;\n",
              "      height: 32px;\n",
              "      padding: 0 0 0 0;\n",
              "      width: 32px;\n",
              "    }\n",
              "\n",
              "    .colab-df-convert:hover {\n",
              "      background-color: #E2EBFA;\n",
              "      box-shadow: 0px 1px 2px rgba(60, 64, 67, 0.3), 0px 1px 3px 1px rgba(60, 64, 67, 0.15);\n",
              "      fill: #174EA6;\n",
              "    }\n",
              "\n",
              "    [theme=dark] .colab-df-convert {\n",
              "      background-color: #3B4455;\n",
              "      fill: #D2E3FC;\n",
              "    }\n",
              "\n",
              "    [theme=dark] .colab-df-convert:hover {\n",
              "      background-color: #434B5C;\n",
              "      box-shadow: 0px 1px 3px 1px rgba(0, 0, 0, 0.15);\n",
              "      filter: drop-shadow(0px 1px 2px rgba(0, 0, 0, 0.3));\n",
              "      fill: #FFFFFF;\n",
              "    }\n",
              "  </style>\n",
              "\n",
              "      <script>\n",
              "        const buttonEl =\n",
              "          document.querySelector('#df-b1f58409-6751-4184-88e1-940d02261edd button.colab-df-convert');\n",
              "        buttonEl.style.display =\n",
              "          google.colab.kernel.accessAllowed ? 'block' : 'none';\n",
              "\n",
              "        async function convertToInteractive(key) {\n",
              "          const element = document.querySelector('#df-b1f58409-6751-4184-88e1-940d02261edd');\n",
              "          const dataTable =\n",
              "            await google.colab.kernel.invokeFunction('convertToInteractive',\n",
              "                                                     [key], {});\n",
              "          if (!dataTable) return;\n",
              "\n",
              "          const docLinkHtml = 'Like what you see? Visit the ' +\n",
              "            '<a target=\"_blank\" href=https://colab.research.google.com/notebooks/data_table.ipynb>data table notebook</a>'\n",
              "            + ' to learn more about interactive tables.';\n",
              "          element.innerHTML = '';\n",
              "          dataTable['output_type'] = 'display_data';\n",
              "          await google.colab.output.renderOutput(dataTable, element);\n",
              "          const docLink = document.createElement('div');\n",
              "          docLink.innerHTML = docLinkHtml;\n",
              "          element.appendChild(docLink);\n",
              "        }\n",
              "      </script>\n",
              "    </div>\n",
              "  </div>\n"
            ]
          },
          "metadata": {},
          "execution_count": 9
        }
      ],
      "source": [
        "rho_E"
      ]
    },
    {
      "cell_type": "markdown",
      "metadata": {
        "id": "704ut1_E_JaS"
      },
      "source": [
        "# Normalizing the data"
      ]
    },
    {
      "cell_type": "code",
      "execution_count": null,
      "metadata": {
        "id": "NL3u4AII_O3t"
      },
      "outputs": [],
      "source": [
        "data_norm = (data-data.mean())/data.std()"
      ]
    },
    {
      "cell_type": "code",
      "execution_count": null,
      "metadata": {
        "colab": {
          "base_uri": "https://localhost:8080/",
          "height": 423
        },
        "id": "YX0xijvU_ygg",
        "outputId": "5ed6e00e-aca8-4922-ccd5-11c310fa6cad"
      },
      "outputs": [
        {
          "output_type": "execute_result",
          "data": {
            "text/plain": [
              "     Unnamed: 0     cases  precipitacao_total_horario  \\\n",
              "0     -1.727601 -0.290409                   -0.546010   \n",
              "1     -1.723172 -0.253223                    0.527707   \n",
              "2     -1.718742 -0.245139                   -0.071201   \n",
              "3     -1.714312 -0.266157                   -0.103574   \n",
              "4     -1.709882 -0.251606                    3.220093   \n",
              "..          ...       ...                         ...   \n",
              "776    1.709916 -0.266157                   -0.594570   \n",
              "777    1.714346 -0.249989                   -0.578384   \n",
              "778    1.718776 -0.230588                    2.346012   \n",
              "779    1.723206 -0.240289                   -0.394935   \n",
              "780    1.727635 -0.272624                    0.301093   \n",
              "\n",
              "     temperatura_maxima_na_hora_ant  temperatura_minima_na_hora_ant  \\\n",
              "0                          0.811546                        0.889999   \n",
              "1                          0.603245                        0.711770   \n",
              "2                          0.684874                        0.754632   \n",
              "3                          0.837980                        0.897872   \n",
              "4                          1.238072                        1.272768   \n",
              "..                              ...                             ...   \n",
              "776                        0.673454                        0.629544   \n",
              "777                        0.006470                       -0.055600   \n",
              "778                        0.633486                        0.668907   \n",
              "779                        0.436182                        0.346564   \n",
              "780                        0.359861                        0.343150   \n",
              "\n",
              "     umidade_rel_max_na_hora_ant  umidade_rel_min_na_hora_ant  \n",
              "0                       0.432964                     0.416788  \n",
              "1                       0.745877                     0.712455  \n",
              "2                       1.125602                     1.082240  \n",
              "3                       0.985214                     0.913863  \n",
              "4                       0.870010                     0.709035  \n",
              "..                           ...                          ...  \n",
              "776                    -0.236841                    -0.268000  \n",
              "777                    -0.915102                    -0.911700  \n",
              "778                     1.370859                     1.323930  \n",
              "779                    -0.566669                    -0.657926  \n",
              "780                     0.607935                     0.507365  \n",
              "\n",
              "[780 rows x 7 columns]"
            ],
            "text/html": [
              "\n",
              "\n",
              "  <div id=\"df-3bec7c39-da67-45a5-9979-4870babc49af\">\n",
              "    <div class=\"colab-df-container\">\n",
              "      <div>\n",
              "<style scoped>\n",
              "    .dataframe tbody tr th:only-of-type {\n",
              "        vertical-align: middle;\n",
              "    }\n",
              "\n",
              "    .dataframe tbody tr th {\n",
              "        vertical-align: top;\n",
              "    }\n",
              "\n",
              "    .dataframe thead th {\n",
              "        text-align: right;\n",
              "    }\n",
              "</style>\n",
              "<table border=\"1\" class=\"dataframe\">\n",
              "  <thead>\n",
              "    <tr style=\"text-align: right;\">\n",
              "      <th></th>\n",
              "      <th>Unnamed: 0</th>\n",
              "      <th>cases</th>\n",
              "      <th>precipitacao_total_horario</th>\n",
              "      <th>temperatura_maxima_na_hora_ant</th>\n",
              "      <th>temperatura_minima_na_hora_ant</th>\n",
              "      <th>umidade_rel_max_na_hora_ant</th>\n",
              "      <th>umidade_rel_min_na_hora_ant</th>\n",
              "    </tr>\n",
              "  </thead>\n",
              "  <tbody>\n",
              "    <tr>\n",
              "      <th>0</th>\n",
              "      <td>-1.727601</td>\n",
              "      <td>-0.290409</td>\n",
              "      <td>-0.546010</td>\n",
              "      <td>0.811546</td>\n",
              "      <td>0.889999</td>\n",
              "      <td>0.432964</td>\n",
              "      <td>0.416788</td>\n",
              "    </tr>\n",
              "    <tr>\n",
              "      <th>1</th>\n",
              "      <td>-1.723172</td>\n",
              "      <td>-0.253223</td>\n",
              "      <td>0.527707</td>\n",
              "      <td>0.603245</td>\n",
              "      <td>0.711770</td>\n",
              "      <td>0.745877</td>\n",
              "      <td>0.712455</td>\n",
              "    </tr>\n",
              "    <tr>\n",
              "      <th>2</th>\n",
              "      <td>-1.718742</td>\n",
              "      <td>-0.245139</td>\n",
              "      <td>-0.071201</td>\n",
              "      <td>0.684874</td>\n",
              "      <td>0.754632</td>\n",
              "      <td>1.125602</td>\n",
              "      <td>1.082240</td>\n",
              "    </tr>\n",
              "    <tr>\n",
              "      <th>3</th>\n",
              "      <td>-1.714312</td>\n",
              "      <td>-0.266157</td>\n",
              "      <td>-0.103574</td>\n",
              "      <td>0.837980</td>\n",
              "      <td>0.897872</td>\n",
              "      <td>0.985214</td>\n",
              "      <td>0.913863</td>\n",
              "    </tr>\n",
              "    <tr>\n",
              "      <th>4</th>\n",
              "      <td>-1.709882</td>\n",
              "      <td>-0.251606</td>\n",
              "      <td>3.220093</td>\n",
              "      <td>1.238072</td>\n",
              "      <td>1.272768</td>\n",
              "      <td>0.870010</td>\n",
              "      <td>0.709035</td>\n",
              "    </tr>\n",
              "    <tr>\n",
              "      <th>...</th>\n",
              "      <td>...</td>\n",
              "      <td>...</td>\n",
              "      <td>...</td>\n",
              "      <td>...</td>\n",
              "      <td>...</td>\n",
              "      <td>...</td>\n",
              "      <td>...</td>\n",
              "    </tr>\n",
              "    <tr>\n",
              "      <th>776</th>\n",
              "      <td>1.709916</td>\n",
              "      <td>-0.266157</td>\n",
              "      <td>-0.594570</td>\n",
              "      <td>0.673454</td>\n",
              "      <td>0.629544</td>\n",
              "      <td>-0.236841</td>\n",
              "      <td>-0.268000</td>\n",
              "    </tr>\n",
              "    <tr>\n",
              "      <th>777</th>\n",
              "      <td>1.714346</td>\n",
              "      <td>-0.249989</td>\n",
              "      <td>-0.578384</td>\n",
              "      <td>0.006470</td>\n",
              "      <td>-0.055600</td>\n",
              "      <td>-0.915102</td>\n",
              "      <td>-0.911700</td>\n",
              "    </tr>\n",
              "    <tr>\n",
              "      <th>778</th>\n",
              "      <td>1.718776</td>\n",
              "      <td>-0.230588</td>\n",
              "      <td>2.346012</td>\n",
              "      <td>0.633486</td>\n",
              "      <td>0.668907</td>\n",
              "      <td>1.370859</td>\n",
              "      <td>1.323930</td>\n",
              "    </tr>\n",
              "    <tr>\n",
              "      <th>779</th>\n",
              "      <td>1.723206</td>\n",
              "      <td>-0.240289</td>\n",
              "      <td>-0.394935</td>\n",
              "      <td>0.436182</td>\n",
              "      <td>0.346564</td>\n",
              "      <td>-0.566669</td>\n",
              "      <td>-0.657926</td>\n",
              "    </tr>\n",
              "    <tr>\n",
              "      <th>780</th>\n",
              "      <td>1.727635</td>\n",
              "      <td>-0.272624</td>\n",
              "      <td>0.301093</td>\n",
              "      <td>0.359861</td>\n",
              "      <td>0.343150</td>\n",
              "      <td>0.607935</td>\n",
              "      <td>0.507365</td>\n",
              "    </tr>\n",
              "  </tbody>\n",
              "</table>\n",
              "<p>780 rows × 7 columns</p>\n",
              "</div>\n",
              "      <button class=\"colab-df-convert\" onclick=\"convertToInteractive('df-3bec7c39-da67-45a5-9979-4870babc49af')\"\n",
              "              title=\"Convert this dataframe to an interactive table.\"\n",
              "              style=\"display:none;\">\n",
              "\n",
              "  <svg xmlns=\"http://www.w3.org/2000/svg\" height=\"24px\"viewBox=\"0 0 24 24\"\n",
              "       width=\"24px\">\n",
              "    <path d=\"M0 0h24v24H0V0z\" fill=\"none\"/>\n",
              "    <path d=\"M18.56 5.44l.94 2.06.94-2.06 2.06-.94-2.06-.94-.94-2.06-.94 2.06-2.06.94zm-11 1L8.5 8.5l.94-2.06 2.06-.94-2.06-.94L8.5 2.5l-.94 2.06-2.06.94zm10 10l.94 2.06.94-2.06 2.06-.94-2.06-.94-.94-2.06-.94 2.06-2.06.94z\"/><path d=\"M17.41 7.96l-1.37-1.37c-.4-.4-.92-.59-1.43-.59-.52 0-1.04.2-1.43.59L10.3 9.45l-7.72 7.72c-.78.78-.78 2.05 0 2.83L4 21.41c.39.39.9.59 1.41.59.51 0 1.02-.2 1.41-.59l7.78-7.78 2.81-2.81c.8-.78.8-2.07 0-2.86zM5.41 20L4 18.59l7.72-7.72 1.47 1.35L5.41 20z\"/>\n",
              "  </svg>\n",
              "      </button>\n",
              "\n",
              "\n",
              "\n",
              "    <div id=\"df-0cdb5251-220a-4f00-ba18-c7b41e5592e7\">\n",
              "      <button class=\"colab-df-quickchart\" onclick=\"quickchart('df-0cdb5251-220a-4f00-ba18-c7b41e5592e7')\"\n",
              "              title=\"Suggest charts.\"\n",
              "              style=\"display:none;\">\n",
              "\n",
              "<svg xmlns=\"http://www.w3.org/2000/svg\" height=\"24px\"viewBox=\"0 0 24 24\"\n",
              "     width=\"24px\">\n",
              "    <g>\n",
              "        <path d=\"M19 3H5c-1.1 0-2 .9-2 2v14c0 1.1.9 2 2 2h14c1.1 0 2-.9 2-2V5c0-1.1-.9-2-2-2zM9 17H7v-7h2v7zm4 0h-2V7h2v10zm4 0h-2v-4h2v4z\"/>\n",
              "    </g>\n",
              "</svg>\n",
              "      </button>\n",
              "    </div>\n",
              "\n",
              "<style>\n",
              "  .colab-df-quickchart {\n",
              "    background-color: #E8F0FE;\n",
              "    border: none;\n",
              "    border-radius: 50%;\n",
              "    cursor: pointer;\n",
              "    display: none;\n",
              "    fill: #1967D2;\n",
              "    height: 32px;\n",
              "    padding: 0 0 0 0;\n",
              "    width: 32px;\n",
              "  }\n",
              "\n",
              "  .colab-df-quickchart:hover {\n",
              "    background-color: #E2EBFA;\n",
              "    box-shadow: 0px 1px 2px rgba(60, 64, 67, 0.3), 0px 1px 3px 1px rgba(60, 64, 67, 0.15);\n",
              "    fill: #174EA6;\n",
              "  }\n",
              "\n",
              "  [theme=dark] .colab-df-quickchart {\n",
              "    background-color: #3B4455;\n",
              "    fill: #D2E3FC;\n",
              "  }\n",
              "\n",
              "  [theme=dark] .colab-df-quickchart:hover {\n",
              "    background-color: #434B5C;\n",
              "    box-shadow: 0px 1px 3px 1px rgba(0, 0, 0, 0.15);\n",
              "    filter: drop-shadow(0px 1px 2px rgba(0, 0, 0, 0.3));\n",
              "    fill: #FFFFFF;\n",
              "  }\n",
              "</style>\n",
              "\n",
              "    <script>\n",
              "      async function quickchart(key) {\n",
              "        const containerElement = document.querySelector('#' + key);\n",
              "        const charts = await google.colab.kernel.invokeFunction(\n",
              "            'suggestCharts', [key], {});\n",
              "      }\n",
              "    </script>\n",
              "\n",
              "      <script>\n",
              "\n",
              "function displayQuickchartButton(domScope) {\n",
              "  let quickchartButtonEl =\n",
              "    domScope.querySelector('#df-0cdb5251-220a-4f00-ba18-c7b41e5592e7 button.colab-df-quickchart');\n",
              "  quickchartButtonEl.style.display =\n",
              "    google.colab.kernel.accessAllowed ? 'block' : 'none';\n",
              "}\n",
              "\n",
              "        displayQuickchartButton(document);\n",
              "      </script>\n",
              "      <style>\n",
              "    .colab-df-container {\n",
              "      display:flex;\n",
              "      flex-wrap:wrap;\n",
              "      gap: 12px;\n",
              "    }\n",
              "\n",
              "    .colab-df-convert {\n",
              "      background-color: #E8F0FE;\n",
              "      border: none;\n",
              "      border-radius: 50%;\n",
              "      cursor: pointer;\n",
              "      display: none;\n",
              "      fill: #1967D2;\n",
              "      height: 32px;\n",
              "      padding: 0 0 0 0;\n",
              "      width: 32px;\n",
              "    }\n",
              "\n",
              "    .colab-df-convert:hover {\n",
              "      background-color: #E2EBFA;\n",
              "      box-shadow: 0px 1px 2px rgba(60, 64, 67, 0.3), 0px 1px 3px 1px rgba(60, 64, 67, 0.15);\n",
              "      fill: #174EA6;\n",
              "    }\n",
              "\n",
              "    [theme=dark] .colab-df-convert {\n",
              "      background-color: #3B4455;\n",
              "      fill: #D2E3FC;\n",
              "    }\n",
              "\n",
              "    [theme=dark] .colab-df-convert:hover {\n",
              "      background-color: #434B5C;\n",
              "      box-shadow: 0px 1px 3px 1px rgba(0, 0, 0, 0.15);\n",
              "      filter: drop-shadow(0px 1px 2px rgba(0, 0, 0, 0.3));\n",
              "      fill: #FFFFFF;\n",
              "    }\n",
              "  </style>\n",
              "\n",
              "      <script>\n",
              "        const buttonEl =\n",
              "          document.querySelector('#df-3bec7c39-da67-45a5-9979-4870babc49af button.colab-df-convert');\n",
              "        buttonEl.style.display =\n",
              "          google.colab.kernel.accessAllowed ? 'block' : 'none';\n",
              "\n",
              "        async function convertToInteractive(key) {\n",
              "          const element = document.querySelector('#df-3bec7c39-da67-45a5-9979-4870babc49af');\n",
              "          const dataTable =\n",
              "            await google.colab.kernel.invokeFunction('convertToInteractive',\n",
              "                                                     [key], {});\n",
              "          if (!dataTable) return;\n",
              "\n",
              "          const docLinkHtml = 'Like what you see? Visit the ' +\n",
              "            '<a target=\"_blank\" href=https://colab.research.google.com/notebooks/data_table.ipynb>data table notebook</a>'\n",
              "            + ' to learn more about interactive tables.';\n",
              "          element.innerHTML = '';\n",
              "          dataTable['output_type'] = 'display_data';\n",
              "          await google.colab.output.renderOutput(dataTable, element);\n",
              "          const docLink = document.createElement('div');\n",
              "          docLink.innerHTML = docLinkHtml;\n",
              "          element.appendChild(docLink);\n",
              "        }\n",
              "      </script>\n",
              "    </div>\n",
              "  </div>\n"
            ]
          },
          "metadata": {},
          "execution_count": 11
        }
      ],
      "source": [
        "data_norm"
      ]
    },
    {
      "cell_type": "markdown",
      "metadata": {
        "id": "l02hcJvN_pEv"
      },
      "source": [
        "# Doing Extended or Lagged CCM"
      ]
    },
    {
      "cell_type": "markdown",
      "metadata": {
        "id": "lcItsaCYIWnX"
      },
      "source": [
        "## Optimal Lag for minimum temperature"
      ]
    },
    {
      "cell_type": "code",
      "execution_count": null,
      "metadata": {
        "colab": {
          "base_uri": "https://localhost:8080/"
        },
        "id": "RrgCsvkN_oc8",
        "outputId": "07c5a52d-c55d-4bd1-dbd4-7976f32fb069"
      },
      "outputs": [
        {
          "output_type": "stream",
          "name": "stdout",
          "text": [
            "-12\n",
            "-11\n",
            "-10\n",
            "-9\n",
            "-8\n",
            "-7\n",
            "-6\n",
            "-5\n",
            "-4\n",
            "-3\n",
            "-2\n",
            "-1\n",
            "0\n",
            "1\n"
          ]
        }
      ],
      "source": [
        "inf_temp_mean = []\n",
        "temp_inf_mean = []\n",
        "inf_temp_std = []\n",
        "temp_inf_std = []\n",
        "tps = np.arange(-12,2,1)\n",
        "\n",
        "for tp in tps:\n",
        "  print(tp)\n",
        "  a = CCM( dataFrame = data_norm, E = 4, Tp = tp,\n",
        "     columns = 'cases', target = 'temperatura_minima_na_hora_ant',\n",
        "     libSizes = '10 720 10', sample = 10)\n",
        "  inf_temp_mean.append(np.mean(a['cases:temperatura_minima_na_hora_ant'].iloc[-50:-1]))\n",
        "  temp_inf_mean.append(np.mean(a['temperatura_minima_na_hora_ant:cases'].iloc[-50:-1]))\n",
        "  inf_temp_std.append(np.std(a['cases:temperatura_minima_na_hora_ant'].iloc[-50:-1]))\n",
        "  temp_inf_std.append(np.std(a['temperatura_minima_na_hora_ant:cases'].iloc[-50:-1]))"
      ]
    },
    {
      "cell_type": "markdown",
      "metadata": {
        "id": "Qj4U-KiDAf1F"
      },
      "source": [
        "## CCM plotting in the convergent causal relationship"
      ]
    },
    {
      "cell_type": "code",
      "execution_count": null,
      "metadata": {
        "colab": {
          "base_uri": "https://localhost:8080/",
          "height": 460
        },
        "id": "M4BMstujAh4N",
        "outputId": "cb8bf37c-2de9-41ef-fc54-0bd4811adad6"
      },
      "outputs": [
        {
          "output_type": "display_data",
          "data": {
            "text/plain": [
              "<Figure size 640x480 with 1 Axes>"
            ],
            "image/png": "[encoded data removed]"
          },
          "metadata": {}
        }
      ],
      "source": [
        "plt.errorbar(tps,inf_temp_mean, inf_temp_std, marker = 'o', label = 'cases:temperatura_minima_na_hora_ant')\n",
        "plt.xlabel(r'$T_{p}$', fontsize = 14)\n",
        "plt.ylabel(r'$CCM \\: \\rho$', fontsize = 14)\n",
        "plt.legend() # uncomment to show label if you want\n",
        "plt.show()"
      ]
    },
    {
      "cell_type": "markdown",
      "metadata": {
        "id": "v4ToF8rJINlp"
      },
      "source": [
        "## Optimal lag for maximum temperature"
      ]
    },
    {
      "cell_type": "code",
      "execution_count": null,
      "metadata": {
        "id": "Tc5JF2XRH-2u",
        "colab": {
          "base_uri": "https://localhost:8080/"
        },
        "outputId": "04e19d6e-f528-40bd-9287-50fa5e8023ba"
      },
      "outputs": [
        {
          "output_type": "stream",
          "name": "stdout",
          "text": [
            "-12\n",
            "-11\n",
            "-10\n",
            "-9\n",
            "-8\n",
            "-7\n",
            "-6\n",
            "-5\n",
            "-4\n",
            "-3\n",
            "-2\n",
            "-1\n",
            "0\n",
            "1\n"
          ]
        }
      ],
      "source": [
        "inf_temp_mean = []\n",
        "temp_inf_mean = []\n",
        "inf_temp_std = []\n",
        "temp_inf_std = []\n",
        "tps = np.arange(-12,2,1)\n",
        "\n",
        "for tp in tps:\n",
        "  print(tp)\n",
        "  a = CCM( dataFrame = data_norm, E = 4, Tp = tp,\n",
        "     columns = 'cases', target = 'temperatura_maxima_na_hora_ant',\n",
        "     libSizes = '10 720 10', sample = 10)\n",
        "  inf_temp_mean.append(np.mean(a['cases:temperatura_maxima_na_hora_ant'].iloc[-50:-1]))\n",
        "  temp_inf_mean.append(np.mean(a['temperatura_maxima_na_hora_ant:cases'].iloc[-50:-1]))\n",
        "  inf_temp_std.append(np.std(a['cases:temperatura_maxima_na_hora_ant'].iloc[-50:-1]))\n",
        "  temp_inf_std.append(np.std(a['temperatura_maxima_na_hora_ant:cases'].iloc[-50:-1]))"
      ]
    },
    {
      "cell_type": "code",
      "execution_count": null,
      "metadata": {
        "id": "w2pH5a-cIFyl",
        "colab": {
          "base_uri": "https://localhost:8080/",
          "height": 460
        },
        "outputId": "e824f4bf-1a7e-43e5-9390-b73c37e78973"
      },
      "outputs": [
        {
          "output_type": "display_data",
          "data": {
            "text/plain": [
              "<Figure size 640x480 with 1 Axes>"
            ],
            "image/png": "[encoded data removed]"
          },
          "metadata": {}
        }
      ],
      "source": [
        "plt.errorbar(tps,inf_temp_mean, inf_temp_std, marker = 'o', label = 'cases:temperatura_maxima_na_hora_ant')\n",
        "plt.xlabel(r'$T_{p}$', fontsize = 14)\n",
        "plt.ylabel(r'$CCM \\: \\rho$', fontsize = 14)\n",
        "plt.legend() # uncomment to show label if you want\n",
        "plt.show()"
      ]
    },
    {
      "cell_type": "markdown",
      "metadata": {
        "id": "jOpwgrBQIs34"
      },
      "source": [
        "## Optimal lag for total precipitation"
      ]
    },
    {
      "cell_type": "code",
      "execution_count": null,
      "metadata": {
        "colab": {
          "base_uri": "https://localhost:8080/"
        },
        "id": "kEM_FtcJI-Ip",
        "outputId": "4660fc58-4315-4546-d60a-a45cde167c05"
      },
      "outputs": [
        {
          "output_type": "stream",
          "name": "stdout",
          "text": [
            "-12\n",
            "-11\n",
            "-10\n",
            "-9\n",
            "-8\n",
            "-7\n",
            "-6\n",
            "-5\n",
            "-4\n",
            "-3\n",
            "-2\n",
            "-1\n",
            "0\n",
            "1\n"
          ]
        }
      ],
      "source": [
        "inf_precip_mean = []\n",
        "precip_inf_mean = []\n",
        "inf_precip_std = []\n",
        "precip_inf_std = []\n",
        "tps = np.arange(-12,2,1)\n",
        "\n",
        "for tp in tps:\n",
        "  print(tp)\n",
        "  a = CCM( dataFrame = data_norm, E = 4, Tp = tp,\n",
        "     columns = 'cases', target = 'precipitacao_total_horario',\n",
        "     libSizes = '10 720 10', sample = 10 )\n",
        "  inf_precip_mean.append(np.mean(a['cases:precipitacao_total_horario'].iloc[-50:-1]))\n",
        "  precip_inf_mean.append(np.mean(a['precipitacao_total_horario:cases'].iloc[-50:-1]))\n",
        "  inf_precip_std.append(np.std(a['cases:precipitacao_total_horario'].iloc[-50:-1]))\n",
        "  precip_inf_std.append(np.std(a['precipitacao_total_horario:cases'].iloc[-50:-1]))"
      ]
    },
    {
      "cell_type": "code",
      "execution_count": null,
      "metadata": {
        "colab": {
          "base_uri": "https://localhost:8080/",
          "height": 460
        },
        "id": "jx6rMeTlILi0",
        "outputId": "8f7b66dd-ae1c-4a9b-fae6-b655e431d8fc"
      },
      "outputs": [
        {
          "output_type": "display_data",
          "data": {
            "text/plain": [
              "<Figure size 640x480 with 1 Axes>"
            ],
            "image/png": "[encoded data removed]"
          },
          "metadata": {}
        }
      ],
      "source": [
        "plt.errorbar(tps,inf_temp_mean, inf_temp_std, marker = 'o', label = 'cases:precipitacao_total_horario')\n",
        "plt.xlabel(r'$T_{p}$', fontsize = 14)\n",
        "plt.ylabel(r'$CCM \\: \\rho$', fontsize = 14)\n",
        "plt.legend() # uncomment to show label if you want\n",
        "plt.show()"
      ]
    },
    {
      "cell_type": "markdown",
      "metadata": {
        "id": "9j1l_IULHZSF"
      },
      "source": [
        "# Combining the results"
      ]
    },
    {
      "cell_type": "code",
      "execution_count": null,
      "metadata": {
        "id": "u0gFqMMkHXfo"
      },
      "outputs": [],
      "source": [
        "results = pd.DataFrame({\n",
        "    'Lags we have used': tps,\n",
        "    'Mean of cases:min temperature': inf_temp_mean,\n",
        "    'Std Dev of cases:min temperature': inf_temp_std,\n",
        "    'Mean of min temperature:cases': temp_inf_mean,\n",
        "    'Std Dev of min temperature:cases': temp_inf_std\n",
        "})"
      ]
    },
    {
      "cell_type": "code",
      "execution_count": null,
      "metadata": {
        "colab": {
          "base_uri": "https://localhost:8080/",
          "height": 488
        },
        "id": "TjIjvfsbfk-8",
        "outputId": "f563ed80-7b54-44fc-956a-93627c2eba5a"
      },
      "outputs": [
        {
          "output_type": "execute_result",
          "data": {
            "text/plain": [
              "    Lags we have used  Mean of cases:min temperature  \\\n",
              "0                 -12                       0.519727   \n",
              "9                  -3                       0.504428   \n",
              "1                 -11                       0.501056   \n",
              "2                 -10                       0.493648   \n",
              "10                 -2                       0.478352   \n",
              "8                  -4                       0.475830   \n",
              "7                  -5                       0.453655   \n",
              "3                  -9                       0.453526   \n",
              "5                  -7                       0.450713   \n",
              "6                  -6                       0.445307   \n",
              "11                 -1                       0.421909   \n",
              "4                  -8                       0.418787   \n",
              "12                  0                       0.368734   \n",
              "13                  1                       0.349479   \n",
              "\n",
              "    Std Dev of cases:min temperature  Mean of min temperature:cases  \\\n",
              "0                           0.003618                       0.136930   \n",
              "9                           0.011349                       0.030632   \n",
              "1                           0.002728                       0.151800   \n",
              "2                           0.004571                       0.175806   \n",
              "10                          0.011082                       0.022024   \n",
              "8                           0.007633                       0.034359   \n",
              "7                           0.008861                       0.042260   \n",
              "3                           0.004187                       0.197186   \n",
              "5                           0.005110                       0.110164   \n",
              "6                           0.005019                       0.066752   \n",
              "11                          0.010566                       0.025386   \n",
              "4                           0.011844                       0.151821   \n",
              "12                          0.009366                       0.038861   \n",
              "13                          0.008887                       0.045622   \n",
              "\n",
              "    Std Dev of min temperature:cases  \n",
              "0                           0.009655  \n",
              "9                           0.007346  \n",
              "1                           0.010374  \n",
              "2                           0.008884  \n",
              "10                          0.009568  \n",
              "8                           0.009190  \n",
              "7                           0.010058  \n",
              "3                           0.019850  \n",
              "5                           0.007652  \n",
              "6                           0.008730  \n",
              "11                          0.012587  \n",
              "4                           0.010776  \n",
              "12                          0.014756  \n",
              "13                          0.016816  "
            ],
            "text/html": [
              "\n",
              "\n",
              "  <div id=\"df-e538f1ef-51aa-4d58-b2ec-83b3531edc7d\">\n",
              "    <div class=\"colab-df-container\">\n",
              "      <div>\n",
              "<style scoped>\n",
              "    .dataframe tbody tr th:only-of-type {\n",
              "        vertical-align: middle;\n",
              "    }\n",
              "\n",
              "    .dataframe tbody tr th {\n",
              "        vertical-align: top;\n",
              "    }\n",
              "\n",
              "    .dataframe thead th {\n",
              "        text-align: right;\n",
              "    }\n",
              "</style>\n",
              "<table border=\"1\" class=\"dataframe\">\n",
              "  <thead>\n",
              "    <tr style=\"text-align: right;\">\n",
              "      <th></th>\n",
              "      <th>Lags we have used</th>\n",
              "      <th>Mean of cases:min temperature</th>\n",
              "      <th>Std Dev of cases:min temperature</th>\n",
              "      <th>Mean of min temperature:cases</th>\n",
              "      <th>Std Dev of min temperature:cases</th>\n",
              "    </tr>\n",
              "  </thead>\n",
              "  <tbody>\n",
              "    <tr>\n",
              "      <th>0</th>\n",
              "      <td>-12</td>\n",
              "      <td>0.519727</td>\n",
              "      <td>0.003618</td>\n",
              "      <td>0.136930</td>\n",
              "      <td>0.009655</td>\n",
              "    </tr>\n",
              "    <tr>\n",
              "      <th>9</th>\n",
              "      <td>-3</td>\n",
              "      <td>0.504428</td>\n",
              "      <td>0.011349</td>\n",
              "      <td>0.030632</td>\n",
              "      <td>0.007346</td>\n",
              "    </tr>\n",
              "    <tr>\n",
              "      <th>1</th>\n",
              "      <td>-11</td>\n",
              "      <td>0.501056</td>\n",
              "      <td>0.002728</td>\n",
              "      <td>0.151800</td>\n",
              "      <td>0.010374</td>\n",
              "    </tr>\n",
              "    <tr>\n",
              "      <th>2</th>\n",
              "      <td>-10</td>\n",
              "      <td>0.493648</td>\n",
              "      <td>0.004571</td>\n",
              "      <td>0.175806</td>\n",
              "      <td>0.008884</td>\n",
              "    </tr>\n",
              "    <tr>\n",
              "      <th>10</th>\n",
              "      <td>-2</td>\n",
              "      <td>0.478352</td>\n",
              "      <td>0.011082</td>\n",
              "      <td>0.022024</td>\n",
              "      <td>0.009568</td>\n",
              "    </tr>\n",
              "    <tr>\n",
              "      <th>8</th>\n",
              "      <td>-4</td>\n",
              "      <td>0.475830</td>\n",
              "      <td>0.007633</td>\n",
              "      <td>0.034359</td>\n",
              "      <td>0.009190</td>\n",
              "    </tr>\n",
              "    <tr>\n",
              "      <th>7</th>\n",
              "      <td>-5</td>\n",
              "      <td>0.453655</td>\n",
              "      <td>0.008861</td>\n",
              "      <td>0.042260</td>\n",
              "      <td>0.010058</td>\n",
              "    </tr>\n",
              "    <tr>\n",
              "      <th>3</th>\n",
              "      <td>-9</td>\n",
              "      <td>0.453526</td>\n",
              "      <td>0.004187</td>\n",
              "      <td>0.197186</td>\n",
              "      <td>0.019850</td>\n",
              "    </tr>\n",
              "    <tr>\n",
              "      <th>5</th>\n",
              "      <td>-7</td>\n",
              "      <td>0.450713</td>\n",
              "      <td>0.005110</td>\n",
              "      <td>0.110164</td>\n",
              "      <td>0.007652</td>\n",
              "    </tr>\n",
              "    <tr>\n",
              "      <th>6</th>\n",
              "      <td>-6</td>\n",
              "      <td>0.445307</td>\n",
              "      <td>0.005019</td>\n",
              "      <td>0.066752</td>\n",
              "      <td>0.008730</td>\n",
              "    </tr>\n",
              "    <tr>\n",
              "      <th>11</th>\n",
              "      <td>-1</td>\n",
              "      <td>0.421909</td>\n",
              "      <td>0.010566</td>\n",
              "      <td>0.025386</td>\n",
              "      <td>0.012587</td>\n",
              "    </tr>\n",
              "    <tr>\n",
              "      <th>4</th>\n",
              "      <td>-8</td>\n",
              "      <td>0.418787</td>\n",
              "      <td>0.011844</td>\n",
              "      <td>0.151821</td>\n",
              "      <td>0.010776</td>\n",
              "    </tr>\n",
              "    <tr>\n",
              "      <th>12</th>\n",
              "      <td>0</td>\n",
              "      <td>0.368734</td>\n",
              "      <td>0.009366</td>\n",
              "      <td>0.038861</td>\n",
              "      <td>0.014756</td>\n",
              "    </tr>\n",
              "    <tr>\n",
              "      <th>13</th>\n",
              "      <td>1</td>\n",
              "      <td>0.349479</td>\n",
              "      <td>0.008887</td>\n",
              "      <td>0.045622</td>\n",
              "      <td>0.016816</td>\n",
              "    </tr>\n",
              "  </tbody>\n",
              "</table>\n",
              "</div>\n",
              "      <button class=\"colab-df-convert\" onclick=\"convertToInteractive('df-e538f1ef-51aa-4d58-b2ec-83b3531edc7d')\"\n",
              "              title=\"Convert this dataframe to an interactive table.\"\n",
              "              style=\"display:none;\">\n",
              "\n",
              "  <svg xmlns=\"http://www.w3.org/2000/svg\" height=\"24px\"viewBox=\"0 0 24 24\"\n",
              "       width=\"24px\">\n",
              "    <path d=\"M0 0h24v24H0V0z\" fill=\"none\"/>\n",
              "    <path d=\"M18.56 5.44l.94 2.06.94-2.06 2.06-.94-2.06-.94-.94-2.06-.94 2.06-2.06.94zm-11 1L8.5 8.5l.94-2.06 2.06-.94-2.06-.94L8.5 2.5l-.94 2.06-2.06.94zm10 10l.94 2.06.94-2.06 2.06-.94-2.06-.94-.94-2.06-.94 2.06-2.06.94z\"/><path d=\"M17.41 7.96l-1.37-1.37c-.4-.4-.92-.59-1.43-.59-.52 0-1.04.2-1.43.59L10.3 9.45l-7.72 7.72c-.78.78-.78 2.05 0 2.83L4 21.41c.39.39.9.59 1.41.59.51 0 1.02-.2 1.41-.59l7.78-7.78 2.81-2.81c.8-.78.8-2.07 0-2.86zM5.41 20L4 18.59l7.72-7.72 1.47 1.35L5.41 20z\"/>\n",
              "  </svg>\n",
              "      </button>\n",
              "\n",
              "\n",
              "\n",
              "    <div id=\"df-6c2057cc-a8f1-41a7-8e09-cc6e7ad0caf7\">\n",
              "      <button class=\"colab-df-quickchart\" onclick=\"quickchart('df-6c2057cc-a8f1-41a7-8e09-cc6e7ad0caf7')\"\n",
              "              title=\"Suggest charts.\"\n",
              "              style=\"display:none;\">\n",
              "\n",
              "<svg xmlns=\"http://www.w3.org/2000/svg\" height=\"24px\"viewBox=\"0 0 24 24\"\n",
              "     width=\"24px\">\n",
              "    <g>\n",
              "        <path d=\"M19 3H5c-1.1 0-2 .9-2 2v14c0 1.1.9 2 2 2h14c1.1 0 2-.9 2-2V5c0-1.1-.9-2-2-2zM9 17H7v-7h2v7zm4 0h-2V7h2v10zm4 0h-2v-4h2v4z\"/>\n",
              "    </g>\n",
              "</svg>\n",
              "      </button>\n",
              "    </div>\n",
              "\n",
              "<style>\n",
              "  .colab-df-quickchart {\n",
              "    background-color: #E8F0FE;\n",
              "    border: none;\n",
              "    border-radius: 50%;\n",
              "    cursor: pointer;\n",
              "    display: none;\n",
              "    fill: #1967D2;\n",
              "    height: 32px;\n",
              "    padding: 0 0 0 0;\n",
              "    width: 32px;\n",
              "  }\n",
              "\n",
              "  .colab-df-quickchart:hover {\n",
              "    background-color: #E2EBFA;\n",
              "    box-shadow: 0px 1px 2px rgba(60, 64, 67, 0.3), 0px 1px 3px 1px rgba(60, 64, 67, 0.15);\n",
              "    fill: #174EA6;\n",
              "  }\n",
              "\n",
              "  [theme=dark] .colab-df-quickchart {\n",
              "    background-color: #3B4455;\n",
              "    fill: #D2E3FC;\n",
              "  }\n",
              "\n",
              "  [theme=dark] .colab-df-quickchart:hover {\n",
              "    background-color: #434B5C;\n",
              "    box-shadow: 0px 1px 3px 1px rgba(0, 0, 0, 0.15);\n",
              "    filter: drop-shadow(0px 1px 2px rgba(0, 0, 0, 0.3));\n",
              "    fill: #FFFFFF;\n",
              "  }\n",
              "</style>\n",
              "\n",
              "    <script>\n",
              "      async function quickchart(key) {\n",
              "        const containerElement = document.querySelector('#' + key);\n",
              "        const charts = await google.colab.kernel.invokeFunction(\n",
              "            'suggestCharts', [key], {});\n",
              "      }\n",
              "    </script>\n",
              "\n",
              "      <script>\n",
              "\n",
              "function displayQuickchartButton(domScope) {\n",
              "  let quickchartButtonEl =\n",
              "    domScope.querySelector('#df-6c2057cc-a8f1-41a7-8e09-cc6e7ad0caf7 button.colab-df-quickchart');\n",
              "  quickchartButtonEl.style.display =\n",
              "    google.colab.kernel.accessAllowed ? 'block' : 'none';\n",
              "}\n",
              "\n",
              "        displayQuickchartButton(document);\n",
              "      </script>\n",
              "      <style>\n",
              "    .colab-df-container {\n",
              "      display:flex;\n",
              "      flex-wrap:wrap;\n",
              "      gap: 12px;\n",
              "    }\n",
              "\n",
              "    .colab-df-convert {\n",
              "      background-color: #E8F0FE;\n",
              "      border: none;\n",
              "      border-radius: 50%;\n",
              "      cursor: pointer;\n",
              "      display: none;\n",
              "      fill: #1967D2;\n",
              "      height: 32px;\n",
              "      padding: 0 0 0 0;\n",
              "      width: 32px;\n",
              "    }\n",
              "\n",
              "    .colab-df-convert:hover {\n",
              "      background-color: #E2EBFA;\n",
              "      box-shadow: 0px 1px 2px rgba(60, 64, 67, 0.3), 0px 1px 3px 1px rgba(60, 64, 67, 0.15);\n",
              "      fill: #174EA6;\n",
              "    }\n",
              "\n",
              "    [theme=dark] .colab-df-convert {\n",
              "      background-color: #3B4455;\n",
              "      fill: #D2E3FC;\n",
              "    }\n",
              "\n",
              "    [theme=dark] .colab-df-convert:hover {\n",
              "      background-color: #434B5C;\n",
              "      box-shadow: 0px 1px 3px 1px rgba(0, 0, 0, 0.15);\n",
              "      filter: drop-shadow(0px 1px 2px rgba(0, 0, 0, 0.3));\n",
              "      fill: #FFFFFF;\n",
              "    }\n",
              "  </style>\n",
              "\n",
              "      <script>\n",
              "        const buttonEl =\n",
              "          document.querySelector('#df-e538f1ef-51aa-4d58-b2ec-83b3531edc7d button.colab-df-convert');\n",
              "        buttonEl.style.display =\n",
              "          google.colab.kernel.accessAllowed ? 'block' : 'none';\n",
              "\n",
              "        async function convertToInteractive(key) {\n",
              "          const element = document.querySelector('#df-e538f1ef-51aa-4d58-b2ec-83b3531edc7d');\n",
              "          const dataTable =\n",
              "            await google.colab.kernel.invokeFunction('convertToInteractive',\n",
              "                                                     [key], {});\n",
              "          if (!dataTable) return;\n",
              "\n",
              "          const docLinkHtml = 'Like what you see? Visit the ' +\n",
              "            '<a target=\"_blank\" href=https://colab.research.google.com/notebooks/data_table.ipynb>data table notebook</a>'\n",
              "            + ' to learn more about interactive tables.';\n",
              "          element.innerHTML = '';\n",
              "          dataTable['output_type'] = 'display_data';\n",
              "          await google.colab.output.renderOutput(dataTable, element);\n",
              "          const docLink = document.createElement('div');\n",
              "          docLink.innerHTML = docLinkHtml;\n",
              "          element.appendChild(docLink);\n",
              "        }\n",
              "      </script>\n",
              "    </div>\n",
              "  </div>\n"
            ]
          },
          "metadata": {},
          "execution_count": 21
        }
      ],
      "source": [
        "sorted_results = results.sort_values('Mean of cases:min temperature', ascending = False)\n",
        "sorted_results"
      ]
    }
  ],
  "metadata": {
    "colab": {
      "provenance": [],
      "mount_file_id": "1WKE8BFUVsUjFwya3MOlTiHCly9ddspZb",
      "authorship_tag": "ABX9TyMrbw4Nga2KfbxFXJCLUwjv",
      "include_colab_link": true
    },
    "kernelspec": {
      "display_name": "Python 3",
      "name": "python3"
    },
    "language_info": {
      "name": "python"
    }
  },
  "nbformat": 4,
  "nbformat_minor": 0
}