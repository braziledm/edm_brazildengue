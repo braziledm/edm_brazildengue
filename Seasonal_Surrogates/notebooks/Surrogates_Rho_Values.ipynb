{
  "nbformat": 4,
  "nbformat_minor": 0,
  "metadata": {
    "colab": {
      "provenance": [],
      "machine_shape": "hm",
      "gpuType": "A100",
      "authorship_tag": "ABX9TyPIECWNNcwL/9ZbM9ufYqzD",
      "include_colab_link": true
    },
    "kernelspec": {
      "name": "python3",
      "display_name": "Python 3"
    },
    "language_info": {
      "name": "python"
    },
    "accelerator": "GPU"
  },
  "cells": [
    {
      "cell_type": "markdown",
      "metadata": {
        "id": "view-in-github",
        "colab_type": "text"
      },
      "source": [
        "<a href=\"https://colab.research.google.com/github/krldlamini/edm_brazildengue/blob/main/Seasonal_Surrogates/notebooks/Surrogates_Rho_Values.ipynb\" target=\"_parent\"><img src=\"https://colab.research.google.com/assets/colab-badge.svg\" alt=\"Open In Colab\"/></a>"
      ]
    },
    {
      "cell_type": "markdown",
      "source": [
        "## The method of surrogates\n",
        "\n",
        "This file runs ccm for all surrogate series generated in R, for each climatic variable and stores these in csv files"
      ],
      "metadata": {
        "id": "Pgl50U5qVt5P"
      }
    },
    {
      "cell_type": "markdown",
      "source": [
        "\n",
        "# Installing pyEDM"
      ],
      "metadata": {
        "id": "oy1PrC5iKU9F"
      }
    },
    {
      "cell_type": "code",
      "execution_count": null,
      "metadata": {
        "colab": {
          "base_uri": "https://localhost:8080/"
        },
        "id": "uTJfh3k6KPTw",
        "outputId": "517996e4-f4c7-4062-b440-a0bf0cdce509"
      },
      "outputs": [
        {
          "output_type": "stream",
          "name": "stdout",
          "text": [
            "Requirement already satisfied: pyEDM in /usr/local/lib/python3.10/dist-packages (1.14.3.0)\n",
            "Requirement already satisfied: pybind11>=2.3 in /usr/local/lib/python3.10/dist-packages (from pyEDM) (2.11.1)\n",
            "Requirement already satisfied: pandas>=1.1 in /usr/local/lib/python3.10/dist-packages (from pyEDM) (1.5.3)\n",
            "Requirement already satisfied: matplotlib>=3.1 in /usr/local/lib/python3.10/dist-packages (from pyEDM) (3.7.1)\n",
            "Requirement already satisfied: scipy>=1.5 in /usr/local/lib/python3.10/dist-packages (from pyEDM) (1.10.1)\n",
            "Requirement already satisfied: contourpy>=1.0.1 in /usr/local/lib/python3.10/dist-packages (from matplotlib>=3.1->pyEDM) (1.1.0)\n",
            "Requirement already satisfied: cycler>=0.10 in /usr/local/lib/python3.10/dist-packages (from matplotlib>=3.1->pyEDM) (0.11.0)\n",
            "Requirement already satisfied: fonttools>=4.22.0 in /usr/local/lib/python3.10/dist-packages (from matplotlib>=3.1->pyEDM) (4.41.1)\n",
            "Requirement already satisfied: kiwisolver>=1.0.1 in /usr/local/lib/python3.10/dist-packages (from matplotlib>=3.1->pyEDM) (1.4.4)\n",
            "Requirement already satisfied: numpy>=1.20 in /usr/local/lib/python3.10/dist-packages (from matplotlib>=3.1->pyEDM) (1.22.4)\n",
            "Requirement already satisfied: packaging>=20.0 in /usr/local/lib/python3.10/dist-packages (from matplotlib>=3.1->pyEDM) (23.1)\n",
            "Requirement already satisfied: pillow>=6.2.0 in /usr/local/lib/python3.10/dist-packages (from matplotlib>=3.1->pyEDM) (9.4.0)\n",
            "Requirement already satisfied: pyparsing>=2.3.1 in /usr/local/lib/python3.10/dist-packages (from matplotlib>=3.1->pyEDM) (3.1.0)\n",
            "Requirement already satisfied: python-dateutil>=2.7 in /usr/local/lib/python3.10/dist-packages (from matplotlib>=3.1->pyEDM) (2.8.2)\n",
            "Requirement already satisfied: pytz>=2020.1 in /usr/local/lib/python3.10/dist-packages (from pandas>=1.1->pyEDM) (2022.7.1)\n",
            "Requirement already satisfied: six>=1.5 in /usr/local/lib/python3.10/dist-packages (from python-dateutil>=2.7->matplotlib>=3.1->pyEDM) (1.16.0)\n"
          ]
        }
      ],
      "source": [
        "!pip install pyEDM"
      ]
    },
    {
      "cell_type": "markdown",
      "source": [
        "# Importing packages"
      ],
      "metadata": {
        "id": "heZAxIBTKmoM"
      }
    },
    {
      "cell_type": "code",
      "source": [
        "from pyEDM import *\n",
        "import matplotlib.pyplot as plt\n",
        "import numpy as np\n",
        "import pandas as pd\n",
        "# for memory management\n",
        "#import os\n",
        "#import psutil\n",
        "import gc #to collect garbarge/ memory optimisation\n",
        "from scipy.integrate import odeint"
      ],
      "metadata": {
        "id": "uS4-CGI8KgfI"
      },
      "execution_count": null,
      "outputs": []
    },
    {
      "cell_type": "code",
      "source": [
        "from google.colab import drive\n",
        "drive.mount('/content/drive')"
      ],
      "metadata": {
        "colab": {
          "base_uri": "https://localhost:8080/"
        },
        "id": "hm8lqlhRKxvh",
        "outputId": "44fa56dc-05cf-41ec-eca0-56087dcb9a02"
      },
      "execution_count": null,
      "outputs": [
        {
          "output_type": "stream",
          "name": "stdout",
          "text": [
            "Drive already mounted at /content/drive; to attempt to forcibly remount, call drive.mount(\"/content/drive\", force_remount=True).\n"
          ]
        }
      ]
    },
    {
      "cell_type": "markdown",
      "source": [
        "# Uploading and fixing data for analysis"
      ],
      "metadata": {
        "id": "2rRTI9q1Ko4U"
      }
    },
    {
      "cell_type": "code",
      "source": [
        "file_path = 'drive/MyDrive/Dengue_BR/Output_Documents/Combined_Files/355030_A701_combined.csv'\n",
        "data = pd.read_csv(file_path, delimiter = ',')\n",
        "data = data.drop(columns = ['data']) # drop dates column\n",
        "data = data.dropna() # dropping NA's\n",
        "data_norm = (data-data.mean())/data.std() # normalising the data"
      ],
      "metadata": {
        "id": "wrdN_JKwKr_h"
      },
      "execution_count": null,
      "outputs": []
    },
    {
      "cell_type": "markdown",
      "source": [
        "# Uploading surrogate data"
      ],
      "metadata": {
        "id": "R8E2Bw-oUjp-"
      }
    },
    {
      "cell_type": "code",
      "source": [
        "rain_path = 'drive/MyDrive/Dengue_BR/Output_Documents/Surrogate_Data/Rain_Surrogates.csv'\n",
        "tot_rain = pd.read_csv(rain_path, delimiter = ',')\n",
        "max_path = 'drive/MyDrive/Dengue_BR/Output_Documents/Surrogate_Data/MaxTemp_Surrogates.csv'\n",
        "max_temp = pd.read_csv(max_path, delimiter = ',')\n",
        "min_path = 'drive/MyDrive/Dengue_BR/Output_Documents/Surrogate_Data/MinTemp_Surrogates.csv'\n",
        "min_temp = pd.read_csv(min_path, delimiter = ',')"
      ],
      "metadata": {
        "id": "eepk5HpJUi_G"
      },
      "execution_count": null,
      "outputs": []
    },
    {
      "cell_type": "markdown",
      "source": [
        "## Add Cases to the Surrogate data"
      ],
      "metadata": {
        "id": "DQXvaGR0XDNG"
      }
    },
    {
      "cell_type": "markdown",
      "source": [
        "Total Precipitation"
      ],
      "metadata": {
        "id": "P1nkXyrmmuEN"
      }
    },
    {
      "cell_type": "code",
      "source": [
        "data_norm = data_norm.reset_index(drop=True)\n",
        "first_two_columns = data_norm.iloc[:, :2]\n",
        "tot_rain = tot_rain.reset_index(drop=True)\n",
        "surr_tot_rain = pd.concat([first_two_columns, tot_rain], axis=1)"
      ],
      "metadata": {
        "id": "1KN0ibfQlPsJ"
      },
      "execution_count": null,
      "outputs": []
    },
    {
      "cell_type": "markdown",
      "source": [
        "Maximum Temperature"
      ],
      "metadata": {
        "id": "nvIIs1OFmwwz"
      }
    },
    {
      "cell_type": "code",
      "source": [
        "data_norm = data_norm.reset_index(drop=True)\n",
        "first_two_columns = data_norm.iloc[:, :2]\n",
        "max_temp = max_temp.reset_index(drop=True)\n",
        "surr_max_temp = pd.concat([first_two_columns, max_temp], axis=1)"
      ],
      "metadata": {
        "id": "qGT31__5SG9f"
      },
      "execution_count": null,
      "outputs": []
    },
    {
      "cell_type": "markdown",
      "source": [
        "Minimum Temperature"
      ],
      "metadata": {
        "id": "fwHFrb8cmyv-"
      }
    },
    {
      "cell_type": "code",
      "source": [
        "data_norm = data_norm.reset_index(drop=True)\n",
        "first_two_columns = data_norm.iloc[:, :2]\n",
        "min_temp = min_temp.reset_index(drop=True)\n",
        "surr_min_temp = pd.concat([first_two_columns, min_temp], axis=1)"
      ],
      "metadata": {
        "id": "KJUUYwHkmYMK"
      },
      "execution_count": null,
      "outputs": []
    },
    {
      "cell_type": "markdown",
      "source": [
        "## Perform CCM for original time series and surrogate data"
      ],
      "metadata": {
        "id": "etaO9kcdKZiU"
      }
    },
    {
      "cell_type": "markdown",
      "source": [
        "**Maximum temperature**"
      ],
      "metadata": {
        "id": "1A-_miwASilk"
      }
    },
    {
      "cell_type": "code",
      "source": [
        "CCM_maxtemp = CCM( dataFrame = data_norm, E = 4,\n",
        "     columns = 'cases', target = 'temperatura_maxima_na_hora_ant',\n",
        "     libSizes = '10 770 10', sample = 10, includeData=True);"
      ],
      "metadata": {
        "id": "f6E2-6wHLfur"
      },
      "execution_count": null,
      "outputs": []
    },
    {
      "cell_type": "code",
      "source": [
        "c_names = surr_tot_rain.columns.tolist()[2:] # get surrogate column names"
      ],
      "metadata": {
        "id": "Nzhtde5H3Yy3"
      },
      "execution_count": null,
      "outputs": []
    },
    {
      "cell_type": "code",
      "source": [
        "result_max = pd.DataFrame(observed_max)\n",
        "for target in c_names:\n",
        "\n",
        "    CCM_max_surr = CCM(dataFrame = surr_tot_max, E=4, columns='cases',\n",
        "                            target= target, libSizes='10 770 10', sample=10)\n",
        "\n",
        "    # Extract the library size and Y:X\n",
        "    temp_max = CCM_max_surr.iloc[:, :2]\n",
        "\n",
        "    # If result_max is empty, initialize it; otherwise, left merge on library size\n",
        "    if result_max.empty:\n",
        "        result_max = temp_max\n",
        "    else:\n",
        "        result_max = pd.merge(result_max, temp_max, on='LibSize', how='left')\n",
        "\n",
        "    #save data to csv\n",
        "    file_path = 'drive/MyDrive/Dengue_BR/Output_Documents/Surrogate_Data/'\n",
        "    pd.DataFrame(result_max).to_csv(file_path + 'MaxCCM_Surr.csv', sep =';', index=False)\n"
      ],
      "metadata": {
        "id": "VaUSS3_G3vfD"
      },
      "execution_count": null,
      "outputs": []
    },
    {
      "cell_type": "markdown",
      "source": [
        "**Minimum** **temperature**"
      ],
      "metadata": {
        "id": "B9GF1WDnSn_K"
      }
    },
    {
      "cell_type": "code",
      "source": [
        "CCM_mintemp = CCM( dataFrame = data_norm, E = 4,\n",
        "     columns = 'cases', target = 'temperatura_minima_na_hora_ant',\n",
        "     libSizes = '10 770 10', sample = 10, includeData = True, showPlot = True)"
      ],
      "metadata": {
        "id": "uOvnNw-oOLTH"
      },
      "execution_count": null,
      "outputs": []
    },
    {
      "cell_type": "code",
      "source": [
        "result_min = pd.DataFrame(observed_min)\n",
        "for target in c_names:\n",
        "\n",
        "    CCM_min_surr = CCM(dataFrame = surr_tot_min, E=4, columns='cases',\n",
        "                            target= target, libSizes='10 770 10', sample=10)\n",
        "\n",
        "    # Extract the library size and Y:X\n",
        "    temp_min = CCM_min_surr.iloc[:, :2]\n",
        "\n",
        "    # If result_min is empty, initialize it; otherwise, left merge on library size\n",
        "    if result_min.empty:\n",
        "        result_min = temp_min\n",
        "    else:\n",
        "        result_min = pd.merge(result_min, temp_min, on='LibSize', how='left')\n",
        "\n",
        "    #save data to csv\n",
        "    file_path = 'drive/MyDrive/Dengue_BR/Output_Documents/Surrogate_Data/'\n",
        "    pd.DataFrame(result_min).to_csv(file_path + 'MinCCM_Surr.csv', sep =';', index=False)"
      ],
      "metadata": {
        "id": "Uco2GgCFUcNE"
      },
      "execution_count": null,
      "outputs": []
    },
    {
      "cell_type": "markdown",
      "source": [
        "**Total** **Precipitation**"
      ],
      "metadata": {
        "id": "LocuJlNZVxJ-"
      }
    },
    {
      "cell_type": "code",
      "source": [
        "CCM_precipitation = CCM( dataFrame = data_norm, E = 4,\n",
        "     columns = 'cases', target = 'precipitacao_total_horario',\n",
        "     libSizes = '10 770 10', sample = 10)\n"
      ],
      "metadata": {
        "id": "no4AhHDnWFz2"
      },
      "execution_count": null,
      "outputs": []
    },
    {
      "cell_type": "code",
      "source": [
        "result_rain = pd.DataFrame(observed_rain)\n",
        "for target in c_names:\n",
        "\n",
        "    CCM_rain_surr = CCM(dataFrame = surr_tot_rain, E=4, columns='cases',\n",
        "                            target= target, libSizes='10 770 10', sample=10)\n",
        "\n",
        "    # Extract the library size and Y:X\n",
        "    temp_rain = CCM_rain_surr.iloc[:, :2]\n",
        "\n",
        "    # If result_rain is empty, initialize it; otherwise, left merge on library size\n",
        "    if result_rain.empty:\n",
        "        result_rain = temp_rain\n",
        "    else:\n",
        "        result_rain = pd.merge(result_rain, temp_rain, on='LibSize', how='left')\n",
        "\n",
        "    #save data to csv\n",
        "    file_path = 'drive/MyDrive/Dengue_BR/Output_Documents/Surrogate_Data/'\n",
        "    pd.DataFrame(result_rain).to_csv(file_path + 'RainCCM_Surr.csv', sep =';', index=False)\n"
      ],
      "metadata": {
        "id": "pQaqOG7aXK3F"
      },
      "execution_count": null,
      "outputs": []
    }
  ]
}